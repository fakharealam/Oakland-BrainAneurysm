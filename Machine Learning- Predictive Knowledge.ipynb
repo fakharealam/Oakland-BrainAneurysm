{
 "cells": [
  {
   "cell_type": "markdown",
   "metadata": {},
   "source": [
    "#### Import Python Library"
   ]
  },
  {
   "cell_type": "code",
   "execution_count": 1,
   "metadata": {
    "collapsed": true
   },
   "outputs": [],
   "source": [
    "import numpy as np\n",
    "import numpy.linalg as LA\n",
    "import pandas as pd\n",
    "import sklearn as sk\n",
    "import itertools\n",
    "from sklearn import decomposition\n",
    "from sklearn.preprocessing import StandardScaler\n",
    "from sklearn.preprocessing import LabelEncoder\n",
    "from sklearn.ensemble import RandomForestClassifier\n",
    "from sklearn.model_selection import RandomizedSearchCV\n",
    "from sklearn.ensemble import AdaBoostClassifier\n",
    "from sklearn.tree import DecisionTreeClassifier\n",
    "from sklearn.ensemble import GradientBoostingClassifier\n",
    "from sklearn.linear_model import LogisticRegression\n",
    "from sklearn.model_selection import train_test_split\n",
    "from sklearn.model_selection import KFold\n",
    "from sklearn.model_selection import cross_val_score, cross_val_predict\n",
    "from sklearn.model_selection import cross_validate\n",
    "from sklearn.metrics import classification_report,confusion_matrix,accuracy_score,make_scorer,precision_score,recall_score,roc_auc_score,f1_score\n",
    "from sklearn.ensemble import VotingClassifier\n",
    "import xgboost as xgb\n",
    "from xgboost.sklearn import XGBClassifier\n",
    "from sklearn import svm\n",
    "from imblearn.over_sampling import SMOTE\n",
    "from sklearn.pipeline import Pipeline\n",
    "from sklearn.manifold import TSNE\n",
    "from scipy.spatial import distance\n",
    "import seaborn as sns\n",
    "import matplotlib.pyplot as plt\n",
    "% matplotlib inline\n",
    "\n",
    "import mlxtend\n",
    "import re\n",
    "from mlxtend.frequent_patterns import apriori\n",
    "from mlxtend.frequent_patterns import association_rules\n",
    "from scipy import stats\n",
    "\n",
    "import warnings\n",
    "warnings.filterwarnings('ignore')"
   ]
  },
  {
   "cell_type": "markdown",
   "metadata": {},
   "source": [
    "#### Get File Path , features and Status ( Ruptured/Un-Ruptured)"
   ]
  },
  {
   "cell_type": "code",
   "execution_count": 2,
   "metadata": {
    "collapsed": true
   },
   "outputs": [],
   "source": [
    "\n",
    "RCI_loc='C://Users//t8828fa//Desktop//Personal//Higher Study//Phd//Study Material//Research Work//RCI//896 Records_v9.xlsx'\n",
    "RCI_features= ['Gender','Location',\n",
    "       'Region', 'Size', 'Size Category (NB)', 'Age', 'Age Category (New 5point)',\n",
    "       'Diabetes', 'Hypertension', 'Heart Disease', 'COPD','Polycystic Kidney Disease', 'Smoking History',\n",
    "       'Cigarettes', 'Cigar', 'Smokeless',\n",
    "       'Multiple Aneurysms', 'Side','Family History','spinning feeling',\n",
    "       'dizziness', 'diplopia', 'blurred vision', 'speech deficits',\n",
    "       'motor deficits', 'Sensory deficits']\n",
    "RCI_label=['Status']\n"
   ]
  },
  {
   "cell_type": "markdown",
   "metadata": {
    "collapsed": true
   },
   "source": [
    "#### Load data into Dataframe"
   ]
  },
  {
   "cell_type": "code",
   "execution_count": 3,
   "metadata": {
    "collapsed": true
   },
   "outputs": [],
   "source": [
    "df_RCI=pd.read_excel(RCI_loc)"
   ]
  },
  {
   "cell_type": "markdown",
   "metadata": {},
   "source": [
    "#### Set Record ID as Index"
   ]
  },
  {
   "cell_type": "code",
   "execution_count": 10,
   "metadata": {
    "collapsed": true
   },
   "outputs": [],
   "source": [
    "\n",
    "df_RCI.set_index('Record ID',inplace=True)"
   ]
  },
  {
   "cell_type": "markdown",
   "metadata": {},
   "source": [
    "#### Replcae missing Smoking History attribute"
   ]
  },
  {
   "cell_type": "code",
   "execution_count": 13,
   "metadata": {
    "collapsed": true
   },
   "outputs": [],
   "source": [
    "def impute_Smoking_History(cols):\n",
    "    Smoking_History = cols[0]\n",
    "    \n",
    "    if pd.isnull(Smoking_History):\n",
    "        return 'NA'\n",
    "    else:\n",
    "        return Smoking_History\n",
    "    \n",
    "df_RCI['Smoking_History'] = df_RCI[['Smoking_History']] .apply(impute_Smoking_History,axis=1)"
   ]
  },
  {
   "cell_type": "markdown",
   "metadata": {
    "collapsed": true
   },
   "source": [
    "#### Balance the data using randomized under sampling technique"
   ]
  },
  {
   "cell_type": "code",
   "execution_count": 25,
   "metadata": {
    "collapsed": true
   },
   "outputs": [],
   "source": [
    "# Step-1 Get number of records having ruptured status\n",
    "no_Ruptured = len(df_RCI[df_RCI['Status'] == 'Ruptured'])\n",
    "\n",
    "# Step-2 Get indices of un-ruptured records\n",
    "unruptured_indices = df_RCI[df_RCI['Status'] == 'Un-Ruptured'].index\n",
    "\n",
    "# Step-3 Fetch random indices of un-ruptured records equal to number of ruptured records in he dataset\n",
    "random_indices = np.random.choice(unruptured_indices,no_Ruptured,replace=False)\n",
    "\n",
    "# Step-4 Get Ruptured indices\n",
    "ruptured_indices = df_RCI[df_RCI['Status'] == 'Ruptured'].index\n",
    "\n",
    "# Step-5 Combine ruptured and un-ruptured indices to form balance date set\n",
    "under_sample_indices = np.concatenate([ruptured_indices,random_indices])\n",
    "\n",
    "# Step-6 Create a dataframe for balance dataset\n",
    "df_RCI_balanced = df_RCI.loc[under_sample_indices]"
   ]
  },
  {
   "cell_type": "markdown",
   "metadata": {},
   "source": [
    "#### Separate Features/Predictors(X) and lablel/Status (Y)"
   ]
  },
  {
   "cell_type": "code",
   "execution_count": 27,
   "metadata": {
    "collapsed": true
   },
   "outputs": [],
   "source": [
    "df_RCI_balanced_X=df_RCI_balanced[df_RCI_balanced.columns.drop('Status')]\n",
    "df_RCI_balanced_Y=df_RCI_balanced['Status']"
   ]
  },
  {
   "cell_type": "markdown",
   "metadata": {},
   "source": [
    "#### Label Encoding for features data set\n",
    "##### Some of the Machin learning algorithm ( for example -DTC, RFC) does not work if categorical variable has value type string. This is done to assgn unique integer value to categorival variable values of the features"
   ]
  },
  {
   "cell_type": "code",
   "execution_count": 28,
   "metadata": {
    "collapsed": true
   },
   "outputs": [],
   "source": [
    "# Take a copy of the balanced data set\n",
    "df_RCI_X_balanced_encoded= df_RCI_balanced_X.copy()\n",
    "\n",
    "encode = {}\n",
    "for column in df_RCI_X_balanced_encoded.columns:\n",
    "        # check if column type is of object ( not integer)\n",
    "        if df_RCI_X_balanced_encoded.dtypes[column] == np.object:\n",
    "            \n",
    "            # Encode the column with integer value\n",
    "            encode[column] = LabelEncoder()\n",
    "            \n",
    "            # assign the value to particular feature value of categorical variable\n",
    "            df_RCI_X_balanced_encoded[column] = encode[column].fit_transform(df_RCI_X_balanced_encoded[column])"
   ]
  },
  {
   "cell_type": "markdown",
   "metadata": {},
   "source": [
    "#### Split the dataset into training and test data"
   ]
  },
  {
   "cell_type": "code",
   "execution_count": 30,
   "metadata": {
    "collapsed": true
   },
   "outputs": [],
   "source": [
    "X_train_b, X_val_b, y_train_b, y_val_b = train_test_split(df_RCI_X_balanced_encoded, \n",
    "                                                    df_RCI_balanced_Y, test_size=0.20, \n",
    "                                                    random_state=101)"
   ]
  },
  {
   "cell_type": "markdown",
   "metadata": {},
   "source": [
    "#### Define K fold and number of splits -"
   ]
  },
  {
   "cell_type": "code",
   "execution_count": null,
   "metadata": {},
   "outputs": [],
   "source": [
    "n_splits=7\n",
    "scoring = {'accuracy' : make_scorer(accuracy_score), \n",
    "           'precision' : make_scorer(precision_score),\n",
    "           'recall' : make_scorer(recall_score), \n",
    "           'f1_score' : make_scorer(f1_score)}\n",
    "\n",
    "kfold = KFold(n_splits=n_splits, random_state=42)"
   ]
  },
  {
   "cell_type": "markdown",
   "metadata": {},
   "source": [
    "#### Algorithm 1-  Decision Tree Classifier(DTC)"
   ]
  },
  {
   "cell_type": "code",
   "execution_count": null,
   "metadata": {},
   "outputs": [],
   "source": [
    "dtree_b = DecisionTreeClassifier()\n",
    "results =cross_validate(dtree_b, X_train_b, y_train_b['Status'].map({'Un-Ruptured' :0 ,'Ruptured':1}),cv=kfold,scoring=scoring)\n",
    "print('Average Accurcay',np.mean(results['test_accuracy']))\n",
    "print('Average F1 Accurcay',np.mean(results['test_f1_score']))\n",
    "print('Average Precision ',np.mean(results['test_precision']))\n",
    "print('Average Recall',np.mean(results['test_recall']))"
   ]
  },
  {
   "cell_type": "markdown",
   "metadata": {},
   "source": [
    "#### Algorithm 2 - Random Forest Classifier( RFC)"
   ]
  },
  {
   "cell_type": "code",
   "execution_count": null,
   "metadata": {},
   "outputs": [],
   "source": [
    "rfc_b = RandomForestClassifier(n_estimators=100,criterion='entropy')\n",
    "results =cross_validate(rfc_b, X_train_b, y_train_b['Status'].map({'Un-Ruptured' :0 ,'Ruptured':1}),cv=kfold,scoring=scoring)\n",
    "print('Average Accurcay',np.mean(results['test_accuracy']))\n",
    "print('Average F1 Accurcay',np.mean(results['test_f1_score']))\n",
    "print('Average Precision ',np.mean(results['test_precision']))\n",
    "print('Average Recall',np.mean(results['test_recall']))"
   ]
  },
  {
   "cell_type": "markdown",
   "metadata": {},
   "source": [
    "#### Algorithm 3- Adaptive Boosting(AdaBoost)"
   ]
  },
  {
   "cell_type": "code",
   "execution_count": null,
   "metadata": {},
   "outputs": [],
   "source": [
    "adaboost_b = AdaBoostClassifier(random_state=1)\n",
    "results =cross_validate(adaboost_b, X_train_b, y_train_b['Status'].map({'Un-Ruptured' :0 ,'Ruptured':1}),cv=kfold,scoring=scoring)\n",
    "print('Average Accurcay',np.mean(results['test_accuracy']))\n",
    "print('Average F1 Accurcay',np.mean(results['test_f1_score']))\n",
    "print('Average Precision ',np.mean(results['test_precision']))\n",
    "print('Average Recall',np.mean(results['test_recall']))"
   ]
  },
  {
   "cell_type": "markdown",
   "metadata": {},
   "source": [
    "#### Algorithm 4- Gradient Boosting ( GBoost)"
   ]
  },
  {
   "cell_type": "code",
   "execution_count": null,
   "metadata": {},
   "outputs": [],
   "source": [
    "Gboost_b = GradientBoostingClassifier(learning_rate=0.01,random_state=1)\n",
    "results =cross_validate(Gboost_b, X_train_b, y_train_b['Status'].map({'Un-Ruptured' :0 ,'Ruptured':1}),cv=kfold,scoring=scoring)\n",
    "print('Average Accurcay',np.mean(results['test_accuracy']))\n",
    "print('Average F1 Accurcay',np.mean(results['test_f1_score']))\n",
    "print('Average Precision ',np.mean(results['test_precision']))\n",
    "print('Average Recall',np.mean(results['test_recall']))"
   ]
  },
  {
   "cell_type": "markdown",
   "metadata": {},
   "source": [
    "#### Algorithm 5 Support Vector Machine( SVM)"
   ]
  },
  {
   "cell_type": "code",
   "execution_count": null,
   "metadata": {},
   "outputs": [],
   "source": [
    "svc_b = svm.SVC(C=1.0, kernel='rbf',probability=True)\n",
    "results =cross_validate(svc_b, X_train_b, y_train_b['Status'].map({'Un-Ruptured' :0 ,'Ruptured':1}),cv=kfold,scoring=scoring)\n",
    "print('Average Accurcay',np.mean(results['test_accuracy']))\n",
    "print('Average F1 Accurcay',np.mean(results['test_f1_score']))\n",
    "print('Average Precision ',np.mean(results['test_precision']))\n",
    "print('Average Recall',np.mean(results['test_recall']))"
   ]
  },
  {
   "cell_type": "markdown",
   "metadata": {},
   "source": [
    "#### Ensemble Model( DTC,RFC,AdaBoost,GBoost,SBM) using Voting Classifier (Soft Voting)"
   ]
  },
  {
   "cell_type": "code",
   "execution_count": null,
   "metadata": {},
   "outputs": [],
   "source": [
    "for w1 in range(1,4):\n",
    "    for w2 in range(1,4):\n",
    "        for w3 in range(1,4):\n",
    "            for w4 in range(1,4):\n",
    "                for w5 in range(1,4):\n",
    "                    ensemble_model_b = VotingClassifier(estimators=[('dtree_b',dtree_b),('rfc_b', rfc_b),('adaboost_b', adaboost_b),('Gboost_b', Gboost_b),('svc_b', svc_b)], voting='soft',weights=[w1,w2,w3,w4,w5])\n",
    "                    ensemble_model_b.fit(X_train_b, y_train_b)\n",
    "                    ensemble_model_pred_b = ensemble_model_b.predict(X_val_b)\n",
    "                    print('Confusion_Matrix \\n',confusion_matrix(y_val_b,ensemble_model_pred_b))\n",
    "                    print('Classification_Report \\n \\n',classification_report(y_val_b,ensemble_model_pred_b))\n",
    "                    print('Accuracy' ,accuracy_score(y_val_b,ensemble_model_pred_b))\n",
    "                    print('{w1},{w2},{w3},{w4},{w5}'.format(w1=w1,w2=w2,w3=w3,w4=w4,w5=w5))\n"
   ]
  }
 ],
 "metadata": {
  "kernelspec": {
   "display_name": "Python 3",
   "language": "python",
   "name": "python3"
  },
  "language_info": {
   "codemirror_mode": {
    "name": "ipython",
    "version": 3
   },
   "file_extension": ".py",
   "mimetype": "text/x-python",
   "name": "python",
   "nbconvert_exporter": "python",
   "pygments_lexer": "ipython3",
   "version": "3.7.3"
  }
 },
 "nbformat": 4,
 "nbformat_minor": 2
}
