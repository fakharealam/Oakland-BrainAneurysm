{
 "cells": [
  {
   "cell_type": "markdown",
   "metadata": {},
   "source": [
    "### Import Library"
   ]
  },
  {
   "cell_type": "code",
   "execution_count": 31,
   "metadata": {},
   "outputs": [
    {
     "name": "stderr",
     "output_type": "stream",
     "text": [
      "UsageError: Line magic function `%` not found.\n"
     ]
    }
   ],
   "source": [
    "import numpy as np\n",
    "import numpy.linalg as LA\n",
    "import pandas as pd\n",
    "import sklearn as sk\n",
    "import itertools\n",
    "from sklearn import decomposition\n",
    "from sklearn.preprocessing import StandardScaler\n",
    "from sklearn.preprocessing import LabelEncoder\n",
    "from sklearn.ensemble import RandomForestClassifier\n",
    "from sklearn.model_selection import RandomizedSearchCV\n",
    "from sklearn.model_selection import GridSearchCV\n",
    "from sklearn.ensemble import AdaBoostClassifier\n",
    "from sklearn.tree import DecisionTreeClassifier\n",
    "from sklearn.ensemble import GradientBoostingClassifier\n",
    "from sklearn.neighbors import KNeighborsClassifier \n",
    "from sklearn.linear_model import LogisticRegression\n",
    "from sklearn.model_selection import train_test_split\n",
    "from sklearn.model_selection import KFold\n",
    "from sklearn.model_selection import cross_val_score, cross_val_predict\n",
    "from sklearn.model_selection import cross_validate\n",
    "from sklearn.metrics import classification_report,confusion_matrix,accuracy_score,make_scorer,precision_score,recall_score,roc_auc_score,f1_score\n",
    "from sklearn.ensemble import VotingClassifier\n",
    "import xgboost as xgb\n",
    "from xgboost.sklearn import XGBClassifier\n",
    "from sklearn import svm\n",
    "from sklearn.pipeline import Pipeline\n",
    "from sklearn.manifold import TSNE\n",
    "from scipy.spatial import distance\n",
    "import seaborn as sns\n",
    "import matplotlib.pyplot as plt\n",
    "% matplotlib inline\n",
    "import pickle\n",
    "import warnings\n",
    "warnings.filterwarnings('ignore')\n",
    "warnings.filterwarnings(action='ignore', category=DataConversionWarning)\n"
   ]
  },
  {
   "cell_type": "code",
   "execution_count": 2,
   "metadata": {},
   "outputs": [],
   "source": [
    "RCI_loc='C://Users//t8828fa//Desktop//Personal//Higher Study//Phd//Study Material//Research Work//RCI//896 Records_v10.csv'\n",
    "#RCI_loc='C://Users//t8828fa//Desktop//Personal//Higher Study//Phd//Study Material//Research Work//RCI//896 Imputed Symtomatic.xlsx'\n",
    "\n",
    "Required_column_list=['Record ID','Status','Location', 'Region','Size Category (NB)','Age Category (Standard)', 'Diabetes', \n",
    "              'Hypertension','Heart Disease', 'COPD', 'Polycystic Kidney Disease', 'Smoking History',\n",
    "              'Multiple Aneurysms',  'Side', 'Family History','Race','diplopia', 'blurred vision']\n",
    "\n",
    "RCI_features= ['Location', 'Region','Size Category (NB)','Age Category (Standard)', 'Diabetes', \n",
    "              'Hypertension','Heart Disease', 'COPD', 'Polycystic Kidney Disease', 'Smoking History',\n",
    "              'Multiple Aneurysms',  'Side', 'Family History','Race','diplopia', 'blurred vision']\n",
    "\n",
    "RCI_label=['Status']\n",
    "\n",
    "# Read the file\n",
    "df_RCI=pd.read_csv(RCI_loc)\n",
    "\n",
    "# Get only required column\n",
    "df_RCI=df_RCI[Required_column_list]\n",
    "\n",
    "# Set Index\n",
    "df_RCI.set_index('Record ID',inplace=True)\n",
    "\n"
   ]
  },
  {
   "cell_type": "markdown",
   "metadata": {},
   "source": [
    "### Replace missing Smoking History by unknown"
   ]
  },
  {
   "cell_type": "code",
   "execution_count": 3,
   "metadata": {},
   "outputs": [],
   "source": [
    "def impute_Smoking_History(cols):\n",
    "    Smoking_History = cols[0]\n",
    "    \n",
    "    if pd.isnull(Smoking_History):\n",
    "        return 'NA'\n",
    "    else:\n",
    "        return Smoking_History\n",
    "    \n",
    "df_RCI['Smoking History'] = df_RCI[['Smoking History']] .apply(impute_Smoking_History,axis=1)"
   ]
  },
  {
   "cell_type": "markdown",
   "metadata": {},
   "source": [
    "### Label Encoding for Unbalance Dataset"
   ]
  },
  {
   "cell_type": "code",
   "execution_count": 4,
   "metadata": {},
   "outputs": [],
   "source": [
    "df_RCI_X=df_RCI[RCI_features]\n",
    "df_RCI_Y=df_RCI[RCI_label]\n",
    "df_RCI_X_encoded= df_RCI_X.copy()\n",
    "\n",
    "\n",
    "encode = {}\n",
    "for column in df_RCI_X_encoded.columns:\n",
    "        if df_RCI_X_encoded.dtypes[column] == np.object:\n",
    "            encode[column] = LabelEncoder()\n",
    "            df_RCI_X_encoded[column] = encode[column].fit_transform(df_RCI_X_encoded[column])"
   ]
  },
  {
   "cell_type": "markdown",
   "metadata": {},
   "source": [
    "### Balance Dataset using under sampling technique"
   ]
  },
  {
   "cell_type": "code",
   "execution_count": 5,
   "metadata": {},
   "outputs": [],
   "source": [
    "no_Ruptured = len(df_RCI[df_RCI['Status'] == 'Ruptured'])\n",
    "unruptured_indices = df_RCI[df_RCI['Status'] == 'Un-Ruptured'].index\n",
    "random_indices = np.random.choice(unruptured_indices,no_Ruptured,replace=False)\n",
    "ruptured_indices = df_RCI[df_RCI['Status'] == 'Ruptured'].index\n",
    "under_sample_indices = np.concatenate([ruptured_indices,random_indices])\n",
    "df_RCI_balanced = df_RCI.loc[under_sample_indices]"
   ]
  },
  {
   "cell_type": "code",
   "execution_count": 6,
   "metadata": {},
   "outputs": [],
   "source": [
    "df_RCI_balanced_X=df_RCI_balanced[RCI_features]\n",
    "df_RCI_balanced_Y=df_RCI_balanced[RCI_label]"
   ]
  },
  {
   "cell_type": "code",
   "execution_count": 7,
   "metadata": {},
   "outputs": [],
   "source": [
    "# Best Performing balance dataset\n",
    "#df_RCI_balanced.to_csv('Base_model_balanced_dataset.csv')"
   ]
  },
  {
   "cell_type": "markdown",
   "metadata": {},
   "source": [
    "## Read Balance Dataset from here always "
   ]
  },
  {
   "cell_type": "code",
   "execution_count": 165,
   "metadata": {},
   "outputs": [],
   "source": [
    "df_RCI_balanced=pd.read_csv('Base_model_balanced_dataset.csv')\n",
    "df_RCI_balanced.rename(index=str, columns={\"Size Category (NB)\": \"Size\",\n",
    "                                'Age Category (Standard)':\"Age\"  \n",
    "                                      \n",
    "                                      },inplace=True)\n",
    "\n",
    "df_RCI_balanced_X.rename(index=str, columns={\"Size Category (NB)\": \"Size\",\n",
    "                                'Age Category (Standard)':\"Age\"  \n",
    "                                      \n",
    "                                      },inplace=True)"
   ]
  },
  {
   "cell_type": "markdown",
   "metadata": {},
   "source": [
    "### Create Label Encoder for balance data set"
   ]
  },
  {
   "cell_type": "code",
   "execution_count": 166,
   "metadata": {},
   "outputs": [],
   "source": [
    "df_RCI_X_balanced_encoded= df_RCI_balanced_X.copy()\n",
    "\n",
    "encode = {}\n",
    "for column in df_RCI_X_balanced_encoded.columns:\n",
    "        if df_RCI_X_balanced_encoded.dtypes[column] == np.object:\n",
    "            encode[column] = LabelEncoder()\n",
    "            df_RCI_X_balanced_encoded[column] = encode[column].fit_transform(df_RCI_X_balanced_encoded[column])"
   ]
  },
  {
   "cell_type": "code",
   "execution_count": 167,
   "metadata": {},
   "outputs": [],
   "source": [
    "X_train_b, X_val_b, y_train_b, y_val_b = train_test_split(df_RCI_X_balanced_encoded, \n",
    "                                                    df_RCI_balanced_Y, test_size=0.20, \n",
    "                                                    random_state=101)"
   ]
  },
  {
   "cell_type": "code",
   "execution_count": null,
   "metadata": {},
   "outputs": [],
   "source": []
  },
  {
   "cell_type": "markdown",
   "metadata": {},
   "source": [
    "### Load All the trained Model"
   ]
  },
  {
   "cell_type": "code",
   "execution_count": 168,
   "metadata": {},
   "outputs": [],
   "source": [
    "log_b =pickle.load(open('log_b', 'rb'))\n",
    "dtree_b =pickle.load(open('dtree_b', 'rb'))\n",
    "rfc_b =pickle.load(open('rfc_b', 'rb'))\n",
    "adaboost_b =pickle.load(open('adaboost_b', 'rb'))\n",
    "Gboost_b=pickle.load(open('Gboost_b', 'rb'))\n",
    "knn =pickle.load(open('knn', 'rb'))\n",
    "svc_b =pickle.load(open('svc_b', 'rb'))\n"
   ]
  },
  {
   "cell_type": "markdown",
   "metadata": {},
   "source": [
    "### Logistic Regression"
   ]
  },
  {
   "cell_type": "code",
   "execution_count": 170,
   "metadata": {},
   "outputs": [
    {
     "name": "stdout",
     "output_type": "stream",
     "text": [
      "[[45 28]\n",
      " [13 63]]\n",
      "              precision    recall  f1-score   support\n",
      "\n",
      "    Ruptured       0.78      0.62      0.69        73\n",
      " Un-Ruptured       0.69      0.83      0.75        76\n",
      "\n",
      "    accuracy                           0.72       149\n",
      "   macro avg       0.73      0.72      0.72       149\n",
      "weighted avg       0.73      0.72      0.72       149\n",
      "\n",
      "Accuracy 0.7248322147651006\n"
     ]
    },
    {
     "name": "stderr",
     "output_type": "stream",
     "text": [
      "C:\\ProgramData\\Anaconda3\\lib\\site-packages\\sklearn\\linear_model\\logistic.py:432: FutureWarning: Default solver will be changed to 'lbfgs' in 0.22. Specify a solver to silence this warning.\n",
      "  FutureWarning)\n",
      "C:\\ProgramData\\Anaconda3\\lib\\site-packages\\sklearn\\utils\\validation.py:724: DataConversionWarning: A column-vector y was passed when a 1d array was expected. Please change the shape of y to (n_samples, ), for example using ravel().\n",
      "  y = column_or_1d(y, warn=True)\n"
     ]
    },
    {
     "data": {
      "text/plain": [
       "'\\n\\n[[63 13]\\n [28 45]]\\n              precision    recall  f1-score   support\\n\\n           0       0.69      0.83      0.75        76\\n           1       0.78      0.62      0.69        73\\n\\n    accuracy                           0.72       149\\n   macro avg       0.73      0.72      0.72       149\\nweighted avg       0.73      0.72      0.72       149\\n\\nAccuracy 0.7248322147651006\\n'"
      ]
     },
     "execution_count": 170,
     "metadata": {},
     "output_type": "execute_result"
    }
   ],
   "source": [
    "log_b = LogisticRegression(random_state=101)\n",
    "log_b.fit(X_train_b, y_train_b)\n",
    "log_pred_b = log_b.predict(X_val_b)\n",
    "print(confusion_matrix(y_val_b,log_pred_b))\n",
    "print(classification_report(y_val_b,log_pred_b))\n",
    "print('Accuracy' ,accuracy_score(y_val_b,log_pred_b))\n",
    "\n",
    "'''\n",
    "\n",
    "[[63 13]\n",
    " [28 45]]\n",
    "              precision    recall  f1-score   support\n",
    "\n",
    "           0       0.69      0.83      0.75        76\n",
    "           1       0.78      0.62      0.69        73\n",
    "\n",
    "    accuracy                           0.72       149\n",
    "   macro avg       0.73      0.72      0.72       149\n",
    "weighted avg       0.73      0.72      0.72       149\n",
    "\n",
    "Accuracy 0.7248322147651006\n",
    "'''"
   ]
  },
  {
   "cell_type": "markdown",
   "metadata": {},
   "source": [
    "### Hypertuning Logistic Regression - Same accuracy as above"
   ]
  },
  {
   "cell_type": "code",
   "execution_count": 144,
   "metadata": {},
   "outputs": [
    {
     "data": {
      "text/plain": [
       "\"\\n# Create logistic regression\\nlogistic = LogisticRegression()\\n# Create regularization penalty space\\npenalty = ['l1', 'l2']\\n# Create regularization hyperparameter space\\nC = np.logspace(0, 4, 10)\\n# Create hyperparameter options\\nhyperparameters = dict(C=C, penalty=penalty)\\n# Create grid search using 5-fold cross validation\\nclf = GridSearchCV(logistic, hyperparameters, cv=5, verbose=0)\\n# Fit grid search\\nlog_best_model = clf.fit(X_train_b, y_train_b)\\nlog_best_model_pred_b = log_best_model.predict(X_val_b)\\nprint(confusion_matrix(y_val_b,log_best_model_pred_b))\\nprint(classification_report(y_val_b,log_best_model_pred_b))\\nprint('Accuracy' ,accuracy_score(y_val_b,log_best_model_pred_b))\\n\\n\""
      ]
     },
     "execution_count": 144,
     "metadata": {},
     "output_type": "execute_result"
    }
   ],
   "source": [
    "'''\n",
    "# Create logistic regression\n",
    "logistic = LogisticRegression()\n",
    "# Create regularization penalty space\n",
    "penalty = ['l1', 'l2']\n",
    "# Create regularization hyperparameter space\n",
    "C = np.logspace(0, 4, 10)\n",
    "# Create hyperparameter options\n",
    "hyperparameters = dict(C=C, penalty=penalty)\n",
    "# Create grid search using 5-fold cross validation\n",
    "clf = GridSearchCV(logistic, hyperparameters, cv=5, verbose=0)\n",
    "# Fit grid search\n",
    "log_best_model = clf.fit(X_train_b, y_train_b)\n",
    "log_best_model_pred_b = log_best_model.predict(X_val_b)\n",
    "print(confusion_matrix(y_val_b,log_best_model_pred_b))\n",
    "print(classification_report(y_val_b,log_best_model_pred_b))\n",
    "print('Accuracy' ,accuracy_score(y_val_b,log_best_model_pred_b))\n",
    "\n",
    "'''"
   ]
  },
  {
   "cell_type": "markdown",
   "metadata": {},
   "source": [
    "### Decision Tree Classifier - Included"
   ]
  },
  {
   "cell_type": "code",
   "execution_count": 172,
   "metadata": {},
   "outputs": [
    {
     "name": "stdout",
     "output_type": "stream",
     "text": [
      "[[48 25]\n",
      " [31 45]]\n",
      "              precision    recall  f1-score   support\n",
      "\n",
      "    Ruptured       0.61      0.66      0.63        73\n",
      " Un-Ruptured       0.64      0.59      0.62        76\n",
      "\n",
      "    accuracy                           0.62       149\n",
      "   macro avg       0.63      0.62      0.62       149\n",
      "weighted avg       0.63      0.62      0.62       149\n",
      "\n",
      "Accuracy 0.6241610738255033\n"
     ]
    },
    {
     "data": {
      "text/plain": [
       "'\\n[[48 28]\\n [31 42]]\\n              precision    recall  f1-score   support\\n\\n           0       0.61      0.63      0.62        76\\n           1       0.60      0.58      0.59        73\\n\\n    accuracy                           0.60       149\\n   macro avg       0.60      0.60      0.60       149\\nweighted avg       0.60      0.60      0.60       149\\n\\nAccuracy 0.6040268456375839\\n'"
      ]
     },
     "execution_count": 172,
     "metadata": {},
     "output_type": "execute_result"
    }
   ],
   "source": [
    "#dtree_b = DecisionTreeClassifier(random_state=101)\n",
    "dtree_b.fit(X_train_b, y_train_b)\n",
    "dtree_pred_b = dtree_b.predict(X_val_b)\n",
    "dtree_pred_train_b = dtree_b.predict(X_train_b)\n",
    "print(confusion_matrix(y_val_b,dtree_pred_b))\n",
    "print(classification_report(y_val_b,dtree_pred_b))\n",
    "print('Accuracy' ,accuracy_score(y_val_b,dtree_pred_b))\n",
    "'''\n",
    "[[48 28]\n",
    " [31 42]]\n",
    "              precision    recall  f1-score   support\n",
    "\n",
    "           0       0.61      0.63      0.62        76\n",
    "           1       0.60      0.58      0.59        73\n",
    "\n",
    "    accuracy                           0.60       149\n",
    "   macro avg       0.60      0.60      0.60       149\n",
    "weighted avg       0.60      0.60      0.60       149\n",
    "\n",
    "Accuracy 0.6040268456375839\n",
    "'''"
   ]
  },
  {
   "cell_type": "markdown",
   "metadata": {},
   "source": [
    "### Random Forest Classfier - Included"
   ]
  },
  {
   "cell_type": "code",
   "execution_count": 173,
   "metadata": {},
   "outputs": [
    {
     "name": "stderr",
     "output_type": "stream",
     "text": [
      "C:\\ProgramData\\Anaconda3\\lib\\site-packages\\ipykernel_launcher.py:2: DataConversionWarning: A column-vector y was passed when a 1d array was expected. Please change the shape of y to (n_samples,), for example using ravel().\n",
      "  \n"
     ]
    },
    {
     "name": "stdout",
     "output_type": "stream",
     "text": [
      "[[52 21]\n",
      " [18 58]]\n",
      "              precision    recall  f1-score   support\n",
      "\n",
      "    Ruptured       0.74      0.71      0.73        73\n",
      " Un-Ruptured       0.73      0.76      0.75        76\n",
      "\n",
      "    accuracy                           0.74       149\n",
      "   macro avg       0.74      0.74      0.74       149\n",
      "weighted avg       0.74      0.74      0.74       149\n",
      "\n",
      "Test Accuracy 0.738255033557047\n"
     ]
    },
    {
     "data": {
      "text/plain": [
       "'\\n[[58 18]\\n [21 52]]\\n              precision    recall  f1-score   support\\n\\n           0       0.73      0.76      0.75        76\\n           1       0.74      0.71      0.73        73\\n\\n    accuracy                           0.74       149\\n   macro avg       0.74      0.74      0.74       149\\nweighted avg       0.74      0.74      0.74       149\\n\\nTest Accuracy 0.738255033557047\\n'"
      ]
     },
     "execution_count": 173,
     "metadata": {},
     "output_type": "execute_result"
    }
   ],
   "source": [
    "#rfc_b = RandomForestClassifier(n_estimators=100,criterion='entropy',random_state=101)\n",
    "rfc_b.fit(X_train_b, y_train_b)\n",
    "rfc_pred_b = rfc_b.predict(X_val_b)\n",
    "rfc_pred_train_b = rfc_b.predict(X_train_b)\n",
    "print(confusion_matrix(y_val_b,rfc_pred_b))\n",
    "print(classification_report(y_val_b,rfc_pred_b))\n",
    "print('Test Accuracy' ,accuracy_score(y_val_b,rfc_pred_b))\n",
    "'''\n",
    "[[58 18]\n",
    " [21 52]]\n",
    "              precision    recall  f1-score   support\n",
    "\n",
    "           0       0.73      0.76      0.75        76\n",
    "           1       0.74      0.71      0.73        73\n",
    "\n",
    "    accuracy                           0.74       149\n",
    "   macro avg       0.74      0.74      0.74       149\n",
    "weighted avg       0.74      0.74      0.74       149\n",
    "\n",
    "Test Accuracy 0.738255033557047\n",
    "'''"
   ]
  },
  {
   "cell_type": "markdown",
   "metadata": {},
   "source": [
    "### Hypertuned Random Forest - Not Needed Same as above"
   ]
  },
  {
   "cell_type": "code",
   "execution_count": 174,
   "metadata": {},
   "outputs": [
    {
     "name": "stderr",
     "output_type": "stream",
     "text": [
      "C:\\ProgramData\\Anaconda3\\lib\\site-packages\\ipykernel_launcher.py:15: DataConversionWarning: A column-vector y was passed when a 1d array was expected. Please change the shape of y to (n_samples,), for example using ravel().\n",
      "  from ipykernel import kernelapp as app\n"
     ]
    },
    {
     "name": "stdout",
     "output_type": "stream",
     "text": [
      "[[52 21]\n",
      " [18 58]]\n",
      "              precision    recall  f1-score   support\n",
      "\n",
      "    Ruptured       0.74      0.71      0.73        73\n",
      " Un-Ruptured       0.73      0.76      0.75        76\n",
      "\n",
      "    accuracy                           0.74       149\n",
      "   macro avg       0.74      0.74      0.74       149\n",
      "weighted avg       0.74      0.74      0.74       149\n",
      "\n",
      "Test Accuracy 0.738255033557047\n"
     ]
    }
   ],
   "source": [
    "RFC_params={'n_estimators': 233,\n",
    "             'min_samples_split': 5,\n",
    "             'min_samples_leaf': 1,\n",
    "             'max_features': 'sqrt',\n",
    "             'max_depth': 40,\n",
    "             'bootstrap': True}\n",
    "\n",
    "rfc_b = RandomForestClassifier(n_estimators=RFC_params['n_estimators'],\n",
    "                               min_samples_split=RFC_params['min_samples_split'],\n",
    "                               min_samples_leaf=RFC_params['min_samples_leaf'],\n",
    "                               max_features=RFC_params['max_features'],\n",
    "                               max_depth=RFC_params['max_depth'],\n",
    "                               bootstrap=RFC_params['bootstrap'],\n",
    "                               criterion='entropy',random_state=101)\n",
    "rfc_b.fit(X_train_b, y_train_b)\n",
    "rfc_pred_b = rfc_b.predict(X_val_b)\n",
    "rfc_pred_train_b = rfc_b.predict(X_train_b)\n",
    "print(confusion_matrix(y_val_b,rfc_pred_b))\n",
    "print(classification_report(y_val_b,rfc_pred_b))\n",
    "print('Test Accuracy' ,accuracy_score(y_val_b,rfc_pred_b))"
   ]
  },
  {
   "cell_type": "markdown",
   "metadata": {},
   "source": [
    "### Hyper Tuning Random Forest - Already Hypertuned Parameter Above"
   ]
  },
  {
   "cell_type": "code",
   "execution_count": null,
   "metadata": {},
   "outputs": [],
   "source": [
    "\n",
    "\n",
    "# Number of trees in random forest\n",
    "n_estimators = [int(x) for x in np.linspace(start = 100, stop = 500, num = 10)]\n",
    "# Number of features to consider at every split\n",
    "max_features = ['auto', 'sqrt']\n",
    "# Maximum number of levels in tree\n",
    "max_depth = [int(x) for x in np.linspace(10, 110, num = 11)]\n",
    "max_depth.append(None)\n",
    "# Minimum number of samples required to split a node\n",
    "min_samples_split = [2, 5, 10]\n",
    "# Minimum number of samples required at each leaf node\n",
    "min_samples_leaf = [1, 2, 4]\n",
    "# Method of selecting samples for training each tree\n",
    "bootstrap = [True, False]\n",
    "# Create the random grid\n",
    "random_grid = {'n_estimators': n_estimators,\n",
    "               'max_features': max_features,\n",
    "               'max_depth': max_depth,\n",
    "               'min_samples_split': min_samples_split,\n",
    "               'min_samples_leaf': min_samples_leaf,\n",
    "               'bootstrap': bootstrap}\n",
    "\n",
    "# First create the base model to tune\n",
    "rfc = RandomForestClassifier()\n",
    "rfc_random = RandomizedSearchCV(estimator = rfc, param_distributions = random_grid, n_iter = 100, cv = 3, verbose=2, random_state=42, n_jobs = -1)\n",
    "rfc_random.fit(X_train_b, y_train_b)\n",
    "rfc_random_pred_b = rfc_random.predict(X_val_b)\n",
    "print(confusion_matrix(y_val_b,rfc_random_pred_b))\n",
    "print(classification_report(y_val_b,rfc_random_pred_b))\n",
    "print('Accuracy' ,accuracy_score(y_val_b,rfc_random_pred_b))\n",
    "\n",
    "rfc_random.best_params_\n"
   ]
  },
  {
   "cell_type": "markdown",
   "metadata": {},
   "source": [
    "### Adaboost -Included"
   ]
  },
  {
   "cell_type": "code",
   "execution_count": 175,
   "metadata": {},
   "outputs": [
    {
     "name": "stderr",
     "output_type": "stream",
     "text": [
      "C:\\ProgramData\\Anaconda3\\lib\\site-packages\\sklearn\\utils\\validation.py:724: DataConversionWarning: A column-vector y was passed when a 1d array was expected. Please change the shape of y to (n_samples, ), for example using ravel().\n",
      "  y = column_or_1d(y, warn=True)\n"
     ]
    },
    {
     "name": "stdout",
     "output_type": "stream",
     "text": [
      "[[52 21]\n",
      " [15 61]]\n",
      "              precision    recall  f1-score   support\n",
      "\n",
      "    Ruptured       0.78      0.71      0.74        73\n",
      " Un-Ruptured       0.74      0.80      0.77        76\n",
      "\n",
      "    accuracy                           0.76       149\n",
      "   macro avg       0.76      0.76      0.76       149\n",
      "weighted avg       0.76      0.76      0.76       149\n",
      "\n",
      "Accuracy 0.7583892617449665\n"
     ]
    },
    {
     "data": {
      "text/plain": [
       "'\\n[[61 15]\\n [21 52]]\\n              precision    recall  f1-score   support\\n\\n           0       0.74      0.80      0.77        76\\n           1       0.78      0.71      0.74        73\\n\\n    accuracy                           0.76       149\\n   macro avg       0.76      0.76      0.76       149\\nweighted avg       0.76      0.76      0.76       149\\n\\nAccuracy 0.7583892617449665\\n'"
      ]
     },
     "execution_count": 175,
     "metadata": {},
     "output_type": "execute_result"
    }
   ],
   "source": [
    "#adaboost_b = AdaBoostClassifier(DecisionTreeClassifier(max_depth=1),n_estimators=200,random_state=1,learning_rate=1)\n",
    "adaboost_b.fit(X_train_b, y_train_b)\n",
    "adaboost_b_pred = adaboost_b.predict(X_val_b)\n",
    "adaboost_b_prob= adaboost_b.predict_proba(X_val_b)\n",
    "print(confusion_matrix(y_val_b,adaboost_b_pred))\n",
    "print(classification_report(y_val_b,adaboost_b_pred))\n",
    "print('Accuracy' ,accuracy_score(y_val_b,adaboost_b_pred))\n",
    "\n",
    "#print(adaboost_b_prob)\n",
    "'''\n",
    "[[61 15]\n",
    " [21 52]]\n",
    "              precision    recall  f1-score   support\n",
    "\n",
    "           0       0.74      0.80      0.77        76\n",
    "           1       0.78      0.71      0.74        73\n",
    "\n",
    "    accuracy                           0.76       149\n",
    "   macro avg       0.76      0.76      0.76       149\n",
    "weighted avg       0.76      0.76      0.76       149\n",
    "\n",
    "Accuracy 0.7583892617449665\n",
    "'''"
   ]
  },
  {
   "cell_type": "markdown",
   "metadata": {},
   "source": [
    "### Gradient Boost  - Included"
   ]
  },
  {
   "cell_type": "code",
   "execution_count": 176,
   "metadata": {},
   "outputs": [
    {
     "name": "stdout",
     "output_type": "stream",
     "text": [
      "[[54 19]\n",
      " [20 56]]\n",
      "              precision    recall  f1-score   support\n",
      "\n",
      "    Ruptured       0.73      0.74      0.73        73\n",
      " Un-Ruptured       0.75      0.74      0.74        76\n",
      "\n",
      "    accuracy                           0.74       149\n",
      "   macro avg       0.74      0.74      0.74       149\n",
      "weighted avg       0.74      0.74      0.74       149\n",
      "\n",
      "Accuracy 0.738255033557047\n"
     ]
    },
    {
     "name": "stderr",
     "output_type": "stream",
     "text": [
      "C:\\ProgramData\\Anaconda3\\lib\\site-packages\\sklearn\\ensemble\\gradient_boosting.py:1450: DataConversionWarning: A column-vector y was passed when a 1d array was expected. Please change the shape of y to (n_samples, ), for example using ravel().\n",
      "  y = column_or_1d(y, warn=True)\n"
     ]
    },
    {
     "data": {
      "text/plain": [
       "'\\n[[56 20]\\n [19 54]]\\n              precision    recall  f1-score   support\\n\\n           0       0.75      0.74      0.74        76\\n           1       0.73      0.74      0.73        73\\n\\n    accuracy                           0.74       149\\n   macro avg       0.74      0.74      0.74       149\\nweighted avg       0.74      0.74      0.74       149\\n\\nAccuracy 0.738255033557047\\n'"
      ]
     },
     "execution_count": 176,
     "metadata": {},
     "output_type": "execute_result"
    }
   ],
   "source": [
    "#Gboost_b = GradientBoostingClassifier(learning_rate=0.1,random_state=1,n_estimators=100,min_samples_split=5,min_samples_leaf=1,subsample=0.8,max_depth=3)\n",
    "Gboost_b.fit(X_train_b, y_train_b)\n",
    "Gboost_pred_b = Gboost_b.predict(X_val_b)\n",
    "print(confusion_matrix(y_val_b,Gboost_pred_b))\n",
    "print(classification_report(y_val_b,Gboost_pred_b))\n",
    "print('Accuracy' ,accuracy_score(y_val_b,Gboost_pred_b))\n",
    "'''\n",
    "[[56 20]\n",
    " [19 54]]\n",
    "              precision    recall  f1-score   support\n",
    "\n",
    "           0       0.75      0.74      0.74        76\n",
    "           1       0.73      0.74      0.73        73\n",
    "\n",
    "    accuracy                           0.74       149\n",
    "   macro avg       0.74      0.74      0.74       149\n",
    "weighted avg       0.74      0.74      0.74       149\n",
    "\n",
    "Accuracy 0.738255033557047\n",
    "'''"
   ]
  },
  {
   "cell_type": "markdown",
   "metadata": {},
   "source": [
    "### SVM - Not Needed"
   ]
  },
  {
   "cell_type": "code",
   "execution_count": 177,
   "metadata": {},
   "outputs": [
    {
     "name": "stdout",
     "output_type": "stream",
     "text": [
      "[[39 34]\n",
      " [11 65]]\n",
      "              precision    recall  f1-score   support\n",
      "\n",
      "    Ruptured       0.78      0.53      0.63        73\n",
      " Un-Ruptured       0.66      0.86      0.74        76\n",
      "\n",
      "    accuracy                           0.70       149\n",
      "   macro avg       0.72      0.69      0.69       149\n",
      "weighted avg       0.72      0.70      0.69       149\n",
      "\n",
      "Accuracy 0.697986577181208\n"
     ]
    },
    {
     "name": "stderr",
     "output_type": "stream",
     "text": [
      "C:\\ProgramData\\Anaconda3\\lib\\site-packages\\sklearn\\utils\\validation.py:724: DataConversionWarning: A column-vector y was passed when a 1d array was expected. Please change the shape of y to (n_samples, ), for example using ravel().\n",
      "  y = column_or_1d(y, warn=True)\n",
      "C:\\ProgramData\\Anaconda3\\lib\\site-packages\\sklearn\\svm\\base.py:193: FutureWarning: The default value of gamma will change from 'auto' to 'scale' in version 0.22 to account better for unscaled features. Set gamma explicitly to 'auto' or 'scale' to avoid this warning.\n",
      "  \"avoid this warning.\", FutureWarning)\n"
     ]
    },
    {
     "data": {
      "text/plain": [
       "'\\n[[65 11]\\n [34 39]]\\n              precision    recall  f1-score   support\\n\\n           0       0.66      0.86      0.74        76\\n           1       0.78      0.53      0.63        73\\n\\n    accuracy                           0.70       149\\n   macro avg       0.72      0.69      0.69       149\\nweighted avg       0.72      0.70      0.69       149\\n\\nAccuracy 0.697986577181208\\n'"
      ]
     },
     "execution_count": 177,
     "metadata": {},
     "output_type": "execute_result"
    }
   ],
   "source": [
    "#svc_b = svm.SVC(C=1.0, kernel='rbf',probability=True,random_state=101)\n",
    "svc_b.fit(X_train_b, y_train_b)\n",
    "svc_pred_b = svc_b.predict(X_val_b)\n",
    "print(confusion_matrix(y_val_b,svc_pred_b))\n",
    "print(classification_report(y_val_b,svc_pred_b))\n",
    "print('Accuracy' ,accuracy_score(y_val_b,svc_pred_b))\n",
    "#print('AUC Score',roc_auc_score(y_val_b.values, svc_pred_b_prob))\n",
    "'''\n",
    "[[65 11]\n",
    " [34 39]]\n",
    "              precision    recall  f1-score   support\n",
    "\n",
    "           0       0.66      0.86      0.74        76\n",
    "           1       0.78      0.53      0.63        73\n",
    "\n",
    "    accuracy                           0.70       149\n",
    "   macro avg       0.72      0.69      0.69       149\n",
    "weighted avg       0.72      0.70      0.69       149\n",
    "\n",
    "Accuracy 0.697986577181208\n",
    "'''"
   ]
  },
  {
   "cell_type": "markdown",
   "metadata": {},
   "source": [
    "### KNN- Included"
   ]
  },
  {
   "cell_type": "code",
   "execution_count": 178,
   "metadata": {},
   "outputs": [
    {
     "name": "stdout",
     "output_type": "stream",
     "text": [
      "[[55 18]\n",
      " [31 45]]\n",
      "              precision    recall  f1-score   support\n",
      "\n",
      "    Ruptured       0.64      0.75      0.69        73\n",
      " Un-Ruptured       0.71      0.59      0.65        76\n",
      "\n",
      "    accuracy                           0.67       149\n",
      "   macro avg       0.68      0.67      0.67       149\n",
      "weighted avg       0.68      0.67      0.67       149\n",
      "\n",
      "Accuracy 0.6711409395973155\n"
     ]
    },
    {
     "name": "stderr",
     "output_type": "stream",
     "text": [
      "C:\\ProgramData\\Anaconda3\\lib\\site-packages\\ipykernel_launcher.py:2: DataConversionWarning: A column-vector y was passed when a 1d array was expected. Please change the shape of y to (n_samples, ), for example using ravel().\n",
      "  \n"
     ]
    },
    {
     "data": {
      "text/plain": [
       "'\\n[[45 31]\\n [18 55]]\\n              precision    recall  f1-score   support\\n\\n           0       0.71      0.59      0.65        76\\n           1       0.64      0.75      0.69        73\\n\\n    accuracy                           0.67       149\\n   macro avg       0.68      0.67      0.67       149\\nweighted avg       0.68      0.67      0.67       149\\n\\nAccuracy 0.6711409395973155\\n'"
      ]
     },
     "execution_count": 178,
     "metadata": {},
     "output_type": "execute_result"
    }
   ],
   "source": [
    "#knn = KNeighborsClassifier(n_neighbors=5, metric='euclidean')\n",
    "knn.fit(X_train_b, y_train_b)\n",
    "KNN_pred_b=knn.predict(X_val_b)\n",
    "print(confusion_matrix(y_val_b,KNN_pred_b))\n",
    "print(classification_report(y_val_b,KNN_pred_b))\n",
    "print('Accuracy' ,accuracy_score(y_val_b,KNN_pred_b))\n",
    "'''\n",
    "[[45 31]\n",
    " [18 55]]\n",
    "              precision    recall  f1-score   support\n",
    "\n",
    "           0       0.71      0.59      0.65        76\n",
    "           1       0.64      0.75      0.69        73\n",
    "\n",
    "    accuracy                           0.67       149\n",
    "   macro avg       0.68      0.67      0.67       149\n",
    "weighted avg       0.68      0.67      0.67       149\n",
    "\n",
    "Accuracy 0.6711409395973155\n",
    "'''"
   ]
  },
  {
   "cell_type": "markdown",
   "metadata": {},
   "source": [
    "### Xgboost - Included"
   ]
  },
  {
   "cell_type": "code",
   "execution_count": 179,
   "metadata": {},
   "outputs": [
    {
     "name": "stdout",
     "output_type": "stream",
     "text": [
      "\n",
      "Model Report\n",
      "[[61 15]\n",
      " [26 47]]\n",
      "              precision    recall  f1-score   support\n",
      "\n",
      "           0       0.70      0.80      0.75        76\n",
      "           1       0.76      0.64      0.70        73\n",
      "\n",
      "    accuracy                           0.72       149\n",
      "   macro avg       0.73      0.72      0.72       149\n",
      "weighted avg       0.73      0.72      0.72       149\n",
      "\n",
      "Accuracy 0.7248322147651006\n"
     ]
    }
   ],
   "source": [
    "y_train_b=y_train_b['Status'].map({'Un-Ruptured' :0 ,'Ruptured':1})\n",
    "y_val_b=y_val_b['Status'].map({'Un-Ruptured' :0 ,'Ruptured':1})\n",
    "\n",
    "useTrainCV=True\n",
    "cv_folds=7\n",
    "early_stopping_rounds=50\n",
    "\n",
    "#alg = XGBClassifier(learning_rate =0.1,n_estimators=1000,max_depth=5,min_child_weight=1,gamma=0,subsample=0.8,\n",
    "#                    colsample_bytree=0.8,objective= 'binary:logistic',nthread=4,scale_pos_weight=1,seed=27,random_state=1)\n",
    "\n",
    "xgb_param = alg.get_xgb_params()\n",
    "xgtrain = xgb.DMatrix(X_train_b, label=y_train_b.values)\n",
    "cvresult = xgb.cv(xgb_param, xgtrain, num_boost_round=alg.get_params()['n_estimators'], nfold=cv_folds,metrics='auc', early_stopping_rounds=early_stopping_rounds)\n",
    "alg.set_params(n_estimators=cvresult.shape[0])\n",
    "    \n",
    "#Fit the algorithm on the data\n",
    "alg.fit(X_train_b, y_train_b,eval_metric='auc')\n",
    "        \n",
    "#Predict training set:\n",
    "dtrain_predictions = alg.predict(X_train_b)\n",
    "dtrain_predprob = alg.predict_proba(X_train_b)[:,1]\n",
    "    \n",
    "# Predict Test Set \n",
    "dtest_predictions = alg.predict(X_val_b)\n",
    "dtest_predprob = alg.predict_proba(X_val_b)[:,1]\n",
    "print (\"\\nModel Report\")    \n",
    "print(confusion_matrix(y_val_b,dtest_predictions))\n",
    "print(classification_report(y_val_b,dtest_predictions))\n",
    "print('Accuracy' ,accuracy_score(y_val_b, dtest_predictions))"
   ]
  },
  {
   "cell_type": "markdown",
   "metadata": {},
   "source": [
    "### Ensemble Model - below cell contains optimized weight\n"
   ]
  },
  {
   "cell_type": "code",
   "execution_count": 180,
   "metadata": {},
   "outputs": [
    {
     "name": "stderr",
     "output_type": "stream",
     "text": [
      "C:\\ProgramData\\Anaconda3\\lib\\site-packages\\sklearn\\linear_model\\logistic.py:432: FutureWarning: Default solver will be changed to 'lbfgs' in 0.22. Specify a solver to silence this warning.\n",
      "  FutureWarning)\n",
      "C:\\ProgramData\\Anaconda3\\lib\\site-packages\\sklearn\\linear_model\\logistic.py:432: FutureWarning: Default solver will be changed to 'lbfgs' in 0.22. Specify a solver to silence this warning.\n",
      "  FutureWarning)\n",
      "C:\\ProgramData\\Anaconda3\\lib\\site-packages\\sklearn\\linear_model\\logistic.py:432: FutureWarning: Default solver will be changed to 'lbfgs' in 0.22. Specify a solver to silence this warning.\n",
      "  FutureWarning)\n",
      "C:\\ProgramData\\Anaconda3\\lib\\site-packages\\sklearn\\linear_model\\logistic.py:432: FutureWarning: Default solver will be changed to 'lbfgs' in 0.22. Specify a solver to silence this warning.\n",
      "  FutureWarning)\n",
      "C:\\ProgramData\\Anaconda3\\lib\\site-packages\\sklearn\\linear_model\\logistic.py:432: FutureWarning: Default solver will be changed to 'lbfgs' in 0.22. Specify a solver to silence this warning.\n",
      "  FutureWarning)\n",
      "C:\\ProgramData\\Anaconda3\\lib\\site-packages\\sklearn\\linear_model\\logistic.py:432: FutureWarning: Default solver will be changed to 'lbfgs' in 0.22. Specify a solver to silence this warning.\n",
      "  FutureWarning)\n",
      "C:\\ProgramData\\Anaconda3\\lib\\site-packages\\sklearn\\linear_model\\logistic.py:432: FutureWarning: Default solver will be changed to 'lbfgs' in 0.22. Specify a solver to silence this warning.\n",
      "  FutureWarning)\n",
      "C:\\ProgramData\\Anaconda3\\lib\\site-packages\\sklearn\\linear_model\\logistic.py:432: FutureWarning: Default solver will be changed to 'lbfgs' in 0.22. Specify a solver to silence this warning.\n",
      "  FutureWarning)\n",
      "C:\\ProgramData\\Anaconda3\\lib\\site-packages\\sklearn\\linear_model\\logistic.py:432: FutureWarning: Default solver will be changed to 'lbfgs' in 0.22. Specify a solver to silence this warning.\n",
      "  FutureWarning)\n",
      "C:\\ProgramData\\Anaconda3\\lib\\site-packages\\sklearn\\linear_model\\logistic.py:432: FutureWarning: Default solver will be changed to 'lbfgs' in 0.22. Specify a solver to silence this warning.\n",
      "  FutureWarning)\n",
      "C:\\ProgramData\\Anaconda3\\lib\\site-packages\\sklearn\\linear_model\\logistic.py:432: FutureWarning: Default solver will be changed to 'lbfgs' in 0.22. Specify a solver to silence this warning.\n",
      "  FutureWarning)\n",
      "C:\\ProgramData\\Anaconda3\\lib\\site-packages\\sklearn\\linear_model\\logistic.py:432: FutureWarning: Default solver will be changed to 'lbfgs' in 0.22. Specify a solver to silence this warning.\n",
      "  FutureWarning)\n",
      "C:\\ProgramData\\Anaconda3\\lib\\site-packages\\sklearn\\linear_model\\logistic.py:432: FutureWarning: Default solver will be changed to 'lbfgs' in 0.22. Specify a solver to silence this warning.\n",
      "  FutureWarning)\n",
      "C:\\ProgramData\\Anaconda3\\lib\\site-packages\\sklearn\\linear_model\\logistic.py:432: FutureWarning: Default solver will be changed to 'lbfgs' in 0.22. Specify a solver to silence this warning.\n",
      "  FutureWarning)\n",
      "C:\\ProgramData\\Anaconda3\\lib\\site-packages\\sklearn\\linear_model\\logistic.py:432: FutureWarning: Default solver will be changed to 'lbfgs' in 0.22. Specify a solver to silence this warning.\n",
      "  FutureWarning)\n",
      "C:\\ProgramData\\Anaconda3\\lib\\site-packages\\sklearn\\linear_model\\logistic.py:432: FutureWarning: Default solver will be changed to 'lbfgs' in 0.22. Specify a solver to silence this warning.\n",
      "  FutureWarning)\n",
      "C:\\ProgramData\\Anaconda3\\lib\\site-packages\\sklearn\\linear_model\\logistic.py:432: FutureWarning: Default solver will be changed to 'lbfgs' in 0.22. Specify a solver to silence this warning.\n",
      "  FutureWarning)\n",
      "C:\\ProgramData\\Anaconda3\\lib\\site-packages\\sklearn\\linear_model\\logistic.py:432: FutureWarning: Default solver will be changed to 'lbfgs' in 0.22. Specify a solver to silence this warning.\n",
      "  FutureWarning)\n",
      "C:\\ProgramData\\Anaconda3\\lib\\site-packages\\sklearn\\linear_model\\logistic.py:432: FutureWarning: Default solver will be changed to 'lbfgs' in 0.22. Specify a solver to silence this warning.\n",
      "  FutureWarning)\n",
      "C:\\ProgramData\\Anaconda3\\lib\\site-packages\\sklearn\\linear_model\\logistic.py:432: FutureWarning: Default solver will be changed to 'lbfgs' in 0.22. Specify a solver to silence this warning.\n",
      "  FutureWarning)\n",
      "C:\\ProgramData\\Anaconda3\\lib\\site-packages\\sklearn\\linear_model\\logistic.py:432: FutureWarning: Default solver will be changed to 'lbfgs' in 0.22. Specify a solver to silence this warning.\n",
      "  FutureWarning)\n",
      "C:\\ProgramData\\Anaconda3\\lib\\site-packages\\sklearn\\linear_model\\logistic.py:432: FutureWarning: Default solver will be changed to 'lbfgs' in 0.22. Specify a solver to silence this warning.\n",
      "  FutureWarning)\n",
      "C:\\ProgramData\\Anaconda3\\lib\\site-packages\\sklearn\\linear_model\\logistic.py:432: FutureWarning: Default solver will be changed to 'lbfgs' in 0.22. Specify a solver to silence this warning.\n",
      "  FutureWarning)\n",
      "C:\\ProgramData\\Anaconda3\\lib\\site-packages\\sklearn\\linear_model\\logistic.py:432: FutureWarning: Default solver will be changed to 'lbfgs' in 0.22. Specify a solver to silence this warning.\n",
      "  FutureWarning)\n",
      "C:\\ProgramData\\Anaconda3\\lib\\site-packages\\sklearn\\linear_model\\logistic.py:432: FutureWarning: Default solver will be changed to 'lbfgs' in 0.22. Specify a solver to silence this warning.\n",
      "  FutureWarning)\n",
      "C:\\ProgramData\\Anaconda3\\lib\\site-packages\\sklearn\\linear_model\\logistic.py:432: FutureWarning: Default solver will be changed to 'lbfgs' in 0.22. Specify a solver to silence this warning.\n",
      "  FutureWarning)\n",
      "C:\\ProgramData\\Anaconda3\\lib\\site-packages\\sklearn\\linear_model\\logistic.py:432: FutureWarning: Default solver will be changed to 'lbfgs' in 0.22. Specify a solver to silence this warning.\n",
      "  FutureWarning)\n",
      "C:\\ProgramData\\Anaconda3\\lib\\site-packages\\sklearn\\linear_model\\logistic.py:432: FutureWarning: Default solver will be changed to 'lbfgs' in 0.22. Specify a solver to silence this warning.\n",
      "  FutureWarning)\n",
      "C:\\ProgramData\\Anaconda3\\lib\\site-packages\\sklearn\\linear_model\\logistic.py:432: FutureWarning: Default solver will be changed to 'lbfgs' in 0.22. Specify a solver to silence this warning.\n",
      "  FutureWarning)\n",
      "C:\\ProgramData\\Anaconda3\\lib\\site-packages\\sklearn\\linear_model\\logistic.py:432: FutureWarning: Default solver will be changed to 'lbfgs' in 0.22. Specify a solver to silence this warning.\n",
      "  FutureWarning)\n",
      "C:\\ProgramData\\Anaconda3\\lib\\site-packages\\sklearn\\linear_model\\logistic.py:432: FutureWarning: Default solver will be changed to 'lbfgs' in 0.22. Specify a solver to silence this warning.\n",
      "  FutureWarning)\n",
      "C:\\ProgramData\\Anaconda3\\lib\\site-packages\\sklearn\\linear_model\\logistic.py:432: FutureWarning: Default solver will be changed to 'lbfgs' in 0.22. Specify a solver to silence this warning.\n",
      "  FutureWarning)\n",
      "C:\\ProgramData\\Anaconda3\\lib\\site-packages\\sklearn\\linear_model\\logistic.py:432: FutureWarning: Default solver will be changed to 'lbfgs' in 0.22. Specify a solver to silence this warning.\n",
      "  FutureWarning)\n",
      "C:\\ProgramData\\Anaconda3\\lib\\site-packages\\sklearn\\linear_model\\logistic.py:432: FutureWarning: Default solver will be changed to 'lbfgs' in 0.22. Specify a solver to silence this warning.\n",
      "  FutureWarning)\n",
      "C:\\ProgramData\\Anaconda3\\lib\\site-packages\\sklearn\\linear_model\\logistic.py:432: FutureWarning: Default solver will be changed to 'lbfgs' in 0.22. Specify a solver to silence this warning.\n",
      "  FutureWarning)\n",
      "C:\\ProgramData\\Anaconda3\\lib\\site-packages\\sklearn\\linear_model\\logistic.py:432: FutureWarning: Default solver will be changed to 'lbfgs' in 0.22. Specify a solver to silence this warning.\n",
      "  FutureWarning)\n",
      "C:\\ProgramData\\Anaconda3\\lib\\site-packages\\sklearn\\linear_model\\logistic.py:432: FutureWarning: Default solver will be changed to 'lbfgs' in 0.22. Specify a solver to silence this warning.\n",
      "  FutureWarning)\n",
      "C:\\ProgramData\\Anaconda3\\lib\\site-packages\\sklearn\\linear_model\\logistic.py:432: FutureWarning: Default solver will be changed to 'lbfgs' in 0.22. Specify a solver to silence this warning.\n",
      "  FutureWarning)\n",
      "C:\\ProgramData\\Anaconda3\\lib\\site-packages\\sklearn\\linear_model\\logistic.py:432: FutureWarning: Default solver will be changed to 'lbfgs' in 0.22. Specify a solver to silence this warning.\n",
      "  FutureWarning)\n",
      "C:\\ProgramData\\Anaconda3\\lib\\site-packages\\sklearn\\linear_model\\logistic.py:432: FutureWarning: Default solver will be changed to 'lbfgs' in 0.22. Specify a solver to silence this warning.\n",
      "  FutureWarning)\n"
     ]
    },
    {
     "name": "stderr",
     "output_type": "stream",
     "text": [
      "C:\\ProgramData\\Anaconda3\\lib\\site-packages\\sklearn\\linear_model\\logistic.py:432: FutureWarning: Default solver will be changed to 'lbfgs' in 0.22. Specify a solver to silence this warning.\n",
      "  FutureWarning)\n",
      "C:\\ProgramData\\Anaconda3\\lib\\site-packages\\sklearn\\linear_model\\logistic.py:432: FutureWarning: Default solver will be changed to 'lbfgs' in 0.22. Specify a solver to silence this warning.\n",
      "  FutureWarning)\n",
      "C:\\ProgramData\\Anaconda3\\lib\\site-packages\\sklearn\\linear_model\\logistic.py:432: FutureWarning: Default solver will be changed to 'lbfgs' in 0.22. Specify a solver to silence this warning.\n",
      "  FutureWarning)\n",
      "C:\\ProgramData\\Anaconda3\\lib\\site-packages\\sklearn\\linear_model\\logistic.py:432: FutureWarning: Default solver will be changed to 'lbfgs' in 0.22. Specify a solver to silence this warning.\n",
      "  FutureWarning)\n",
      "C:\\ProgramData\\Anaconda3\\lib\\site-packages\\sklearn\\linear_model\\logistic.py:432: FutureWarning: Default solver will be changed to 'lbfgs' in 0.22. Specify a solver to silence this warning.\n",
      "  FutureWarning)\n",
      "C:\\ProgramData\\Anaconda3\\lib\\site-packages\\sklearn\\linear_model\\logistic.py:432: FutureWarning: Default solver will be changed to 'lbfgs' in 0.22. Specify a solver to silence this warning.\n",
      "  FutureWarning)\n",
      "C:\\ProgramData\\Anaconda3\\lib\\site-packages\\sklearn\\linear_model\\logistic.py:432: FutureWarning: Default solver will be changed to 'lbfgs' in 0.22. Specify a solver to silence this warning.\n",
      "  FutureWarning)\n",
      "C:\\ProgramData\\Anaconda3\\lib\\site-packages\\sklearn\\linear_model\\logistic.py:432: FutureWarning: Default solver will be changed to 'lbfgs' in 0.22. Specify a solver to silence this warning.\n",
      "  FutureWarning)\n",
      "C:\\ProgramData\\Anaconda3\\lib\\site-packages\\sklearn\\linear_model\\logistic.py:432: FutureWarning: Default solver will be changed to 'lbfgs' in 0.22. Specify a solver to silence this warning.\n",
      "  FutureWarning)\n",
      "C:\\ProgramData\\Anaconda3\\lib\\site-packages\\sklearn\\linear_model\\logistic.py:432: FutureWarning: Default solver will be changed to 'lbfgs' in 0.22. Specify a solver to silence this warning.\n",
      "  FutureWarning)\n",
      "C:\\ProgramData\\Anaconda3\\lib\\site-packages\\sklearn\\linear_model\\logistic.py:432: FutureWarning: Default solver will be changed to 'lbfgs' in 0.22. Specify a solver to silence this warning.\n",
      "  FutureWarning)\n",
      "C:\\ProgramData\\Anaconda3\\lib\\site-packages\\sklearn\\linear_model\\logistic.py:432: FutureWarning: Default solver will be changed to 'lbfgs' in 0.22. Specify a solver to silence this warning.\n",
      "  FutureWarning)\n",
      "C:\\ProgramData\\Anaconda3\\lib\\site-packages\\sklearn\\linear_model\\logistic.py:432: FutureWarning: Default solver will be changed to 'lbfgs' in 0.22. Specify a solver to silence this warning.\n",
      "  FutureWarning)\n",
      "C:\\ProgramData\\Anaconda3\\lib\\site-packages\\sklearn\\linear_model\\logistic.py:432: FutureWarning: Default solver will be changed to 'lbfgs' in 0.22. Specify a solver to silence this warning.\n",
      "  FutureWarning)\n",
      "C:\\ProgramData\\Anaconda3\\lib\\site-packages\\sklearn\\linear_model\\logistic.py:432: FutureWarning: Default solver will be changed to 'lbfgs' in 0.22. Specify a solver to silence this warning.\n",
      "  FutureWarning)\n",
      "C:\\ProgramData\\Anaconda3\\lib\\site-packages\\sklearn\\linear_model\\logistic.py:432: FutureWarning: Default solver will be changed to 'lbfgs' in 0.22. Specify a solver to silence this warning.\n",
      "  FutureWarning)\n",
      "C:\\ProgramData\\Anaconda3\\lib\\site-packages\\sklearn\\linear_model\\logistic.py:432: FutureWarning: Default solver will be changed to 'lbfgs' in 0.22. Specify a solver to silence this warning.\n",
      "  FutureWarning)\n",
      "C:\\ProgramData\\Anaconda3\\lib\\site-packages\\sklearn\\linear_model\\logistic.py:432: FutureWarning: Default solver will be changed to 'lbfgs' in 0.22. Specify a solver to silence this warning.\n",
      "  FutureWarning)\n",
      "C:\\ProgramData\\Anaconda3\\lib\\site-packages\\sklearn\\linear_model\\logistic.py:432: FutureWarning: Default solver will be changed to 'lbfgs' in 0.22. Specify a solver to silence this warning.\n",
      "  FutureWarning)\n",
      "C:\\ProgramData\\Anaconda3\\lib\\site-packages\\sklearn\\linear_model\\logistic.py:432: FutureWarning: Default solver will be changed to 'lbfgs' in 0.22. Specify a solver to silence this warning.\n",
      "  FutureWarning)\n",
      "C:\\ProgramData\\Anaconda3\\lib\\site-packages\\sklearn\\linear_model\\logistic.py:432: FutureWarning: Default solver will be changed to 'lbfgs' in 0.22. Specify a solver to silence this warning.\n",
      "  FutureWarning)\n",
      "C:\\ProgramData\\Anaconda3\\lib\\site-packages\\sklearn\\linear_model\\logistic.py:432: FutureWarning: Default solver will be changed to 'lbfgs' in 0.22. Specify a solver to silence this warning.\n",
      "  FutureWarning)\n",
      "C:\\ProgramData\\Anaconda3\\lib\\site-packages\\sklearn\\linear_model\\logistic.py:432: FutureWarning: Default solver will be changed to 'lbfgs' in 0.22. Specify a solver to silence this warning.\n",
      "  FutureWarning)\n",
      "C:\\ProgramData\\Anaconda3\\lib\\site-packages\\sklearn\\linear_model\\logistic.py:432: FutureWarning: Default solver will be changed to 'lbfgs' in 0.22. Specify a solver to silence this warning.\n",
      "  FutureWarning)\n",
      "C:\\ProgramData\\Anaconda3\\lib\\site-packages\\sklearn\\linear_model\\logistic.py:432: FutureWarning: Default solver will be changed to 'lbfgs' in 0.22. Specify a solver to silence this warning.\n",
      "  FutureWarning)\n",
      "C:\\ProgramData\\Anaconda3\\lib\\site-packages\\sklearn\\linear_model\\logistic.py:432: FutureWarning: Default solver will be changed to 'lbfgs' in 0.22. Specify a solver to silence this warning.\n",
      "  FutureWarning)\n",
      "C:\\ProgramData\\Anaconda3\\lib\\site-packages\\sklearn\\linear_model\\logistic.py:432: FutureWarning: Default solver will be changed to 'lbfgs' in 0.22. Specify a solver to silence this warning.\n",
      "  FutureWarning)\n",
      "C:\\ProgramData\\Anaconda3\\lib\\site-packages\\sklearn\\linear_model\\logistic.py:432: FutureWarning: Default solver will be changed to 'lbfgs' in 0.22. Specify a solver to silence this warning.\n",
      "  FutureWarning)\n",
      "C:\\ProgramData\\Anaconda3\\lib\\site-packages\\sklearn\\linear_model\\logistic.py:432: FutureWarning: Default solver will be changed to 'lbfgs' in 0.22. Specify a solver to silence this warning.\n",
      "  FutureWarning)\n",
      "C:\\ProgramData\\Anaconda3\\lib\\site-packages\\sklearn\\linear_model\\logistic.py:432: FutureWarning: Default solver will be changed to 'lbfgs' in 0.22. Specify a solver to silence this warning.\n",
      "  FutureWarning)\n",
      "C:\\ProgramData\\Anaconda3\\lib\\site-packages\\sklearn\\linear_model\\logistic.py:432: FutureWarning: Default solver will be changed to 'lbfgs' in 0.22. Specify a solver to silence this warning.\n",
      "  FutureWarning)\n",
      "C:\\ProgramData\\Anaconda3\\lib\\site-packages\\sklearn\\linear_model\\logistic.py:432: FutureWarning: Default solver will be changed to 'lbfgs' in 0.22. Specify a solver to silence this warning.\n",
      "  FutureWarning)\n",
      "C:\\ProgramData\\Anaconda3\\lib\\site-packages\\sklearn\\linear_model\\logistic.py:432: FutureWarning: Default solver will be changed to 'lbfgs' in 0.22. Specify a solver to silence this warning.\n",
      "  FutureWarning)\n",
      "C:\\ProgramData\\Anaconda3\\lib\\site-packages\\sklearn\\linear_model\\logistic.py:432: FutureWarning: Default solver will be changed to 'lbfgs' in 0.22. Specify a solver to silence this warning.\n",
      "  FutureWarning)\n",
      "C:\\ProgramData\\Anaconda3\\lib\\site-packages\\sklearn\\linear_model\\logistic.py:432: FutureWarning: Default solver will be changed to 'lbfgs' in 0.22. Specify a solver to silence this warning.\n",
      "  FutureWarning)\n",
      "C:\\ProgramData\\Anaconda3\\lib\\site-packages\\sklearn\\linear_model\\logistic.py:432: FutureWarning: Default solver will be changed to 'lbfgs' in 0.22. Specify a solver to silence this warning.\n",
      "  FutureWarning)\n",
      "C:\\ProgramData\\Anaconda3\\lib\\site-packages\\sklearn\\linear_model\\logistic.py:432: FutureWarning: Default solver will be changed to 'lbfgs' in 0.22. Specify a solver to silence this warning.\n",
      "  FutureWarning)\n",
      "C:\\ProgramData\\Anaconda3\\lib\\site-packages\\sklearn\\linear_model\\logistic.py:432: FutureWarning: Default solver will be changed to 'lbfgs' in 0.22. Specify a solver to silence this warning.\n",
      "  FutureWarning)\n",
      "C:\\ProgramData\\Anaconda3\\lib\\site-packages\\sklearn\\linear_model\\logistic.py:432: FutureWarning: Default solver will be changed to 'lbfgs' in 0.22. Specify a solver to silence this warning.\n",
      "  FutureWarning)\n",
      "C:\\ProgramData\\Anaconda3\\lib\\site-packages\\sklearn\\linear_model\\logistic.py:432: FutureWarning: Default solver will be changed to 'lbfgs' in 0.22. Specify a solver to silence this warning.\n",
      "  FutureWarning)\n"
     ]
    },
    {
     "name": "stderr",
     "output_type": "stream",
     "text": [
      "C:\\ProgramData\\Anaconda3\\lib\\site-packages\\sklearn\\linear_model\\logistic.py:432: FutureWarning: Default solver will be changed to 'lbfgs' in 0.22. Specify a solver to silence this warning.\n",
      "  FutureWarning)\n",
      "C:\\ProgramData\\Anaconda3\\lib\\site-packages\\sklearn\\linear_model\\logistic.py:432: FutureWarning: Default solver will be changed to 'lbfgs' in 0.22. Specify a solver to silence this warning.\n",
      "  FutureWarning)\n",
      "C:\\ProgramData\\Anaconda3\\lib\\site-packages\\sklearn\\linear_model\\logistic.py:432: FutureWarning: Default solver will be changed to 'lbfgs' in 0.22. Specify a solver to silence this warning.\n",
      "  FutureWarning)\n",
      "C:\\ProgramData\\Anaconda3\\lib\\site-packages\\sklearn\\linear_model\\logistic.py:432: FutureWarning: Default solver will be changed to 'lbfgs' in 0.22. Specify a solver to silence this warning.\n",
      "  FutureWarning)\n",
      "C:\\ProgramData\\Anaconda3\\lib\\site-packages\\sklearn\\linear_model\\logistic.py:432: FutureWarning: Default solver will be changed to 'lbfgs' in 0.22. Specify a solver to silence this warning.\n",
      "  FutureWarning)\n",
      "C:\\ProgramData\\Anaconda3\\lib\\site-packages\\sklearn\\linear_model\\logistic.py:432: FutureWarning: Default solver will be changed to 'lbfgs' in 0.22. Specify a solver to silence this warning.\n",
      "  FutureWarning)\n",
      "C:\\ProgramData\\Anaconda3\\lib\\site-packages\\sklearn\\linear_model\\logistic.py:432: FutureWarning: Default solver will be changed to 'lbfgs' in 0.22. Specify a solver to silence this warning.\n",
      "  FutureWarning)\n",
      "C:\\ProgramData\\Anaconda3\\lib\\site-packages\\sklearn\\linear_model\\logistic.py:432: FutureWarning: Default solver will be changed to 'lbfgs' in 0.22. Specify a solver to silence this warning.\n",
      "  FutureWarning)\n",
      "C:\\ProgramData\\Anaconda3\\lib\\site-packages\\sklearn\\linear_model\\logistic.py:432: FutureWarning: Default solver will be changed to 'lbfgs' in 0.22. Specify a solver to silence this warning.\n",
      "  FutureWarning)\n",
      "C:\\ProgramData\\Anaconda3\\lib\\site-packages\\sklearn\\linear_model\\logistic.py:432: FutureWarning: Default solver will be changed to 'lbfgs' in 0.22. Specify a solver to silence this warning.\n",
      "  FutureWarning)\n",
      "C:\\ProgramData\\Anaconda3\\lib\\site-packages\\sklearn\\linear_model\\logistic.py:432: FutureWarning: Default solver will be changed to 'lbfgs' in 0.22. Specify a solver to silence this warning.\n",
      "  FutureWarning)\n",
      "C:\\ProgramData\\Anaconda3\\lib\\site-packages\\sklearn\\linear_model\\logistic.py:432: FutureWarning: Default solver will be changed to 'lbfgs' in 0.22. Specify a solver to silence this warning.\n",
      "  FutureWarning)\n",
      "C:\\ProgramData\\Anaconda3\\lib\\site-packages\\sklearn\\linear_model\\logistic.py:432: FutureWarning: Default solver will be changed to 'lbfgs' in 0.22. Specify a solver to silence this warning.\n",
      "  FutureWarning)\n",
      "C:\\ProgramData\\Anaconda3\\lib\\site-packages\\sklearn\\linear_model\\logistic.py:432: FutureWarning: Default solver will be changed to 'lbfgs' in 0.22. Specify a solver to silence this warning.\n",
      "  FutureWarning)\n",
      "C:\\ProgramData\\Anaconda3\\lib\\site-packages\\sklearn\\linear_model\\logistic.py:432: FutureWarning: Default solver will be changed to 'lbfgs' in 0.22. Specify a solver to silence this warning.\n",
      "  FutureWarning)\n",
      "C:\\ProgramData\\Anaconda3\\lib\\site-packages\\sklearn\\linear_model\\logistic.py:432: FutureWarning: Default solver will be changed to 'lbfgs' in 0.22. Specify a solver to silence this warning.\n",
      "  FutureWarning)\n",
      "C:\\ProgramData\\Anaconda3\\lib\\site-packages\\sklearn\\linear_model\\logistic.py:432: FutureWarning: Default solver will be changed to 'lbfgs' in 0.22. Specify a solver to silence this warning.\n",
      "  FutureWarning)\n",
      "C:\\ProgramData\\Anaconda3\\lib\\site-packages\\sklearn\\linear_model\\logistic.py:432: FutureWarning: Default solver will be changed to 'lbfgs' in 0.22. Specify a solver to silence this warning.\n",
      "  FutureWarning)\n",
      "C:\\ProgramData\\Anaconda3\\lib\\site-packages\\sklearn\\linear_model\\logistic.py:432: FutureWarning: Default solver will be changed to 'lbfgs' in 0.22. Specify a solver to silence this warning.\n",
      "  FutureWarning)\n",
      "C:\\ProgramData\\Anaconda3\\lib\\site-packages\\sklearn\\linear_model\\logistic.py:432: FutureWarning: Default solver will be changed to 'lbfgs' in 0.22. Specify a solver to silence this warning.\n",
      "  FutureWarning)\n",
      "C:\\ProgramData\\Anaconda3\\lib\\site-packages\\sklearn\\linear_model\\logistic.py:432: FutureWarning: Default solver will be changed to 'lbfgs' in 0.22. Specify a solver to silence this warning.\n",
      "  FutureWarning)\n",
      "C:\\ProgramData\\Anaconda3\\lib\\site-packages\\sklearn\\linear_model\\logistic.py:432: FutureWarning: Default solver will be changed to 'lbfgs' in 0.22. Specify a solver to silence this warning.\n",
      "  FutureWarning)\n",
      "C:\\ProgramData\\Anaconda3\\lib\\site-packages\\sklearn\\linear_model\\logistic.py:432: FutureWarning: Default solver will be changed to 'lbfgs' in 0.22. Specify a solver to silence this warning.\n",
      "  FutureWarning)\n",
      "C:\\ProgramData\\Anaconda3\\lib\\site-packages\\sklearn\\linear_model\\logistic.py:432: FutureWarning: Default solver will be changed to 'lbfgs' in 0.22. Specify a solver to silence this warning.\n",
      "  FutureWarning)\n",
      "C:\\ProgramData\\Anaconda3\\lib\\site-packages\\sklearn\\linear_model\\logistic.py:432: FutureWarning: Default solver will be changed to 'lbfgs' in 0.22. Specify a solver to silence this warning.\n",
      "  FutureWarning)\n",
      "C:\\ProgramData\\Anaconda3\\lib\\site-packages\\sklearn\\linear_model\\logistic.py:432: FutureWarning: Default solver will be changed to 'lbfgs' in 0.22. Specify a solver to silence this warning.\n",
      "  FutureWarning)\n",
      "C:\\ProgramData\\Anaconda3\\lib\\site-packages\\sklearn\\linear_model\\logistic.py:432: FutureWarning: Default solver will be changed to 'lbfgs' in 0.22. Specify a solver to silence this warning.\n",
      "  FutureWarning)\n",
      "C:\\ProgramData\\Anaconda3\\lib\\site-packages\\sklearn\\linear_model\\logistic.py:432: FutureWarning: Default solver will be changed to 'lbfgs' in 0.22. Specify a solver to silence this warning.\n",
      "  FutureWarning)\n",
      "C:\\ProgramData\\Anaconda3\\lib\\site-packages\\sklearn\\linear_model\\logistic.py:432: FutureWarning: Default solver will be changed to 'lbfgs' in 0.22. Specify a solver to silence this warning.\n",
      "  FutureWarning)\n",
      "C:\\ProgramData\\Anaconda3\\lib\\site-packages\\sklearn\\linear_model\\logistic.py:432: FutureWarning: Default solver will be changed to 'lbfgs' in 0.22. Specify a solver to silence this warning.\n",
      "  FutureWarning)\n",
      "C:\\ProgramData\\Anaconda3\\lib\\site-packages\\sklearn\\linear_model\\logistic.py:432: FutureWarning: Default solver will be changed to 'lbfgs' in 0.22. Specify a solver to silence this warning.\n",
      "  FutureWarning)\n",
      "C:\\ProgramData\\Anaconda3\\lib\\site-packages\\sklearn\\linear_model\\logistic.py:432: FutureWarning: Default solver will be changed to 'lbfgs' in 0.22. Specify a solver to silence this warning.\n",
      "  FutureWarning)\n",
      "C:\\ProgramData\\Anaconda3\\lib\\site-packages\\sklearn\\linear_model\\logistic.py:432: FutureWarning: Default solver will be changed to 'lbfgs' in 0.22. Specify a solver to silence this warning.\n",
      "  FutureWarning)\n",
      "C:\\ProgramData\\Anaconda3\\lib\\site-packages\\sklearn\\linear_model\\logistic.py:432: FutureWarning: Default solver will be changed to 'lbfgs' in 0.22. Specify a solver to silence this warning.\n",
      "  FutureWarning)\n",
      "C:\\ProgramData\\Anaconda3\\lib\\site-packages\\sklearn\\linear_model\\logistic.py:432: FutureWarning: Default solver will be changed to 'lbfgs' in 0.22. Specify a solver to silence this warning.\n",
      "  FutureWarning)\n",
      "C:\\ProgramData\\Anaconda3\\lib\\site-packages\\sklearn\\linear_model\\logistic.py:432: FutureWarning: Default solver will be changed to 'lbfgs' in 0.22. Specify a solver to silence this warning.\n",
      "  FutureWarning)\n",
      "C:\\ProgramData\\Anaconda3\\lib\\site-packages\\sklearn\\linear_model\\logistic.py:432: FutureWarning: Default solver will be changed to 'lbfgs' in 0.22. Specify a solver to silence this warning.\n",
      "  FutureWarning)\n",
      "C:\\ProgramData\\Anaconda3\\lib\\site-packages\\sklearn\\linear_model\\logistic.py:432: FutureWarning: Default solver will be changed to 'lbfgs' in 0.22. Specify a solver to silence this warning.\n",
      "  FutureWarning)\n",
      "C:\\ProgramData\\Anaconda3\\lib\\site-packages\\sklearn\\linear_model\\logistic.py:432: FutureWarning: Default solver will be changed to 'lbfgs' in 0.22. Specify a solver to silence this warning.\n",
      "  FutureWarning)\n",
      "C:\\ProgramData\\Anaconda3\\lib\\site-packages\\sklearn\\linear_model\\logistic.py:432: FutureWarning: Default solver will be changed to 'lbfgs' in 0.22. Specify a solver to silence this warning.\n",
      "  FutureWarning)\n"
     ]
    },
    {
     "name": "stderr",
     "output_type": "stream",
     "text": [
      "C:\\ProgramData\\Anaconda3\\lib\\site-packages\\sklearn\\linear_model\\logistic.py:432: FutureWarning: Default solver will be changed to 'lbfgs' in 0.22. Specify a solver to silence this warning.\n",
      "  FutureWarning)\n",
      "C:\\ProgramData\\Anaconda3\\lib\\site-packages\\sklearn\\linear_model\\logistic.py:432: FutureWarning: Default solver will be changed to 'lbfgs' in 0.22. Specify a solver to silence this warning.\n",
      "  FutureWarning)\n",
      "C:\\ProgramData\\Anaconda3\\lib\\site-packages\\sklearn\\linear_model\\logistic.py:432: FutureWarning: Default solver will be changed to 'lbfgs' in 0.22. Specify a solver to silence this warning.\n",
      "  FutureWarning)\n",
      "C:\\ProgramData\\Anaconda3\\lib\\site-packages\\sklearn\\linear_model\\logistic.py:432: FutureWarning: Default solver will be changed to 'lbfgs' in 0.22. Specify a solver to silence this warning.\n",
      "  FutureWarning)\n",
      "C:\\ProgramData\\Anaconda3\\lib\\site-packages\\sklearn\\linear_model\\logistic.py:432: FutureWarning: Default solver will be changed to 'lbfgs' in 0.22. Specify a solver to silence this warning.\n",
      "  FutureWarning)\n",
      "C:\\ProgramData\\Anaconda3\\lib\\site-packages\\sklearn\\linear_model\\logistic.py:432: FutureWarning: Default solver will be changed to 'lbfgs' in 0.22. Specify a solver to silence this warning.\n",
      "  FutureWarning)\n",
      "C:\\ProgramData\\Anaconda3\\lib\\site-packages\\sklearn\\linear_model\\logistic.py:432: FutureWarning: Default solver will be changed to 'lbfgs' in 0.22. Specify a solver to silence this warning.\n",
      "  FutureWarning)\n",
      "C:\\ProgramData\\Anaconda3\\lib\\site-packages\\sklearn\\linear_model\\logistic.py:432: FutureWarning: Default solver will be changed to 'lbfgs' in 0.22. Specify a solver to silence this warning.\n",
      "  FutureWarning)\n",
      "C:\\ProgramData\\Anaconda3\\lib\\site-packages\\sklearn\\linear_model\\logistic.py:432: FutureWarning: Default solver will be changed to 'lbfgs' in 0.22. Specify a solver to silence this warning.\n",
      "  FutureWarning)\n",
      "C:\\ProgramData\\Anaconda3\\lib\\site-packages\\sklearn\\linear_model\\logistic.py:432: FutureWarning: Default solver will be changed to 'lbfgs' in 0.22. Specify a solver to silence this warning.\n",
      "  FutureWarning)\n",
      "C:\\ProgramData\\Anaconda3\\lib\\site-packages\\sklearn\\linear_model\\logistic.py:432: FutureWarning: Default solver will be changed to 'lbfgs' in 0.22. Specify a solver to silence this warning.\n",
      "  FutureWarning)\n",
      "C:\\ProgramData\\Anaconda3\\lib\\site-packages\\sklearn\\linear_model\\logistic.py:432: FutureWarning: Default solver will be changed to 'lbfgs' in 0.22. Specify a solver to silence this warning.\n",
      "  FutureWarning)\n",
      "C:\\ProgramData\\Anaconda3\\lib\\site-packages\\sklearn\\linear_model\\logistic.py:432: FutureWarning: Default solver will be changed to 'lbfgs' in 0.22. Specify a solver to silence this warning.\n",
      "  FutureWarning)\n",
      "C:\\ProgramData\\Anaconda3\\lib\\site-packages\\sklearn\\linear_model\\logistic.py:432: FutureWarning: Default solver will be changed to 'lbfgs' in 0.22. Specify a solver to silence this warning.\n",
      "  FutureWarning)\n",
      "C:\\ProgramData\\Anaconda3\\lib\\site-packages\\sklearn\\linear_model\\logistic.py:432: FutureWarning: Default solver will be changed to 'lbfgs' in 0.22. Specify a solver to silence this warning.\n",
      "  FutureWarning)\n",
      "C:\\ProgramData\\Anaconda3\\lib\\site-packages\\sklearn\\linear_model\\logistic.py:432: FutureWarning: Default solver will be changed to 'lbfgs' in 0.22. Specify a solver to silence this warning.\n",
      "  FutureWarning)\n",
      "C:\\ProgramData\\Anaconda3\\lib\\site-packages\\sklearn\\linear_model\\logistic.py:432: FutureWarning: Default solver will be changed to 'lbfgs' in 0.22. Specify a solver to silence this warning.\n",
      "  FutureWarning)\n",
      "C:\\ProgramData\\Anaconda3\\lib\\site-packages\\sklearn\\linear_model\\logistic.py:432: FutureWarning: Default solver will be changed to 'lbfgs' in 0.22. Specify a solver to silence this warning.\n",
      "  FutureWarning)\n",
      "C:\\ProgramData\\Anaconda3\\lib\\site-packages\\sklearn\\linear_model\\logistic.py:432: FutureWarning: Default solver will be changed to 'lbfgs' in 0.22. Specify a solver to silence this warning.\n",
      "  FutureWarning)\n",
      "C:\\ProgramData\\Anaconda3\\lib\\site-packages\\sklearn\\linear_model\\logistic.py:432: FutureWarning: Default solver will be changed to 'lbfgs' in 0.22. Specify a solver to silence this warning.\n",
      "  FutureWarning)\n",
      "C:\\ProgramData\\Anaconda3\\lib\\site-packages\\sklearn\\linear_model\\logistic.py:432: FutureWarning: Default solver will be changed to 'lbfgs' in 0.22. Specify a solver to silence this warning.\n",
      "  FutureWarning)\n",
      "C:\\ProgramData\\Anaconda3\\lib\\site-packages\\sklearn\\linear_model\\logistic.py:432: FutureWarning: Default solver will be changed to 'lbfgs' in 0.22. Specify a solver to silence this warning.\n",
      "  FutureWarning)\n",
      "C:\\ProgramData\\Anaconda3\\lib\\site-packages\\sklearn\\linear_model\\logistic.py:432: FutureWarning: Default solver will be changed to 'lbfgs' in 0.22. Specify a solver to silence this warning.\n",
      "  FutureWarning)\n",
      "C:\\ProgramData\\Anaconda3\\lib\\site-packages\\sklearn\\linear_model\\logistic.py:432: FutureWarning: Default solver will be changed to 'lbfgs' in 0.22. Specify a solver to silence this warning.\n",
      "  FutureWarning)\n",
      "C:\\ProgramData\\Anaconda3\\lib\\site-packages\\sklearn\\linear_model\\logistic.py:432: FutureWarning: Default solver will be changed to 'lbfgs' in 0.22. Specify a solver to silence this warning.\n",
      "  FutureWarning)\n",
      "C:\\ProgramData\\Anaconda3\\lib\\site-packages\\sklearn\\linear_model\\logistic.py:432: FutureWarning: Default solver will be changed to 'lbfgs' in 0.22. Specify a solver to silence this warning.\n",
      "  FutureWarning)\n",
      "C:\\ProgramData\\Anaconda3\\lib\\site-packages\\sklearn\\linear_model\\logistic.py:432: FutureWarning: Default solver will be changed to 'lbfgs' in 0.22. Specify a solver to silence this warning.\n",
      "  FutureWarning)\n",
      "C:\\ProgramData\\Anaconda3\\lib\\site-packages\\sklearn\\linear_model\\logistic.py:432: FutureWarning: Default solver will be changed to 'lbfgs' in 0.22. Specify a solver to silence this warning.\n",
      "  FutureWarning)\n",
      "C:\\ProgramData\\Anaconda3\\lib\\site-packages\\sklearn\\linear_model\\logistic.py:432: FutureWarning: Default solver will be changed to 'lbfgs' in 0.22. Specify a solver to silence this warning.\n",
      "  FutureWarning)\n",
      "C:\\ProgramData\\Anaconda3\\lib\\site-packages\\sklearn\\linear_model\\logistic.py:432: FutureWarning: Default solver will be changed to 'lbfgs' in 0.22. Specify a solver to silence this warning.\n",
      "  FutureWarning)\n",
      "C:\\ProgramData\\Anaconda3\\lib\\site-packages\\sklearn\\linear_model\\logistic.py:432: FutureWarning: Default solver will be changed to 'lbfgs' in 0.22. Specify a solver to silence this warning.\n",
      "  FutureWarning)\n",
      "C:\\ProgramData\\Anaconda3\\lib\\site-packages\\sklearn\\linear_model\\logistic.py:432: FutureWarning: Default solver will be changed to 'lbfgs' in 0.22. Specify a solver to silence this warning.\n",
      "  FutureWarning)\n",
      "C:\\ProgramData\\Anaconda3\\lib\\site-packages\\sklearn\\linear_model\\logistic.py:432: FutureWarning: Default solver will be changed to 'lbfgs' in 0.22. Specify a solver to silence this warning.\n",
      "  FutureWarning)\n",
      "C:\\ProgramData\\Anaconda3\\lib\\site-packages\\sklearn\\linear_model\\logistic.py:432: FutureWarning: Default solver will be changed to 'lbfgs' in 0.22. Specify a solver to silence this warning.\n",
      "  FutureWarning)\n",
      "C:\\ProgramData\\Anaconda3\\lib\\site-packages\\sklearn\\linear_model\\logistic.py:432: FutureWarning: Default solver will be changed to 'lbfgs' in 0.22. Specify a solver to silence this warning.\n",
      "  FutureWarning)\n",
      "C:\\ProgramData\\Anaconda3\\lib\\site-packages\\sklearn\\linear_model\\logistic.py:432: FutureWarning: Default solver will be changed to 'lbfgs' in 0.22. Specify a solver to silence this warning.\n",
      "  FutureWarning)\n",
      "C:\\ProgramData\\Anaconda3\\lib\\site-packages\\sklearn\\linear_model\\logistic.py:432: FutureWarning: Default solver will be changed to 'lbfgs' in 0.22. Specify a solver to silence this warning.\n",
      "  FutureWarning)\n",
      "C:\\ProgramData\\Anaconda3\\lib\\site-packages\\sklearn\\linear_model\\logistic.py:432: FutureWarning: Default solver will be changed to 'lbfgs' in 0.22. Specify a solver to silence this warning.\n",
      "  FutureWarning)\n",
      "C:\\ProgramData\\Anaconda3\\lib\\site-packages\\sklearn\\linear_model\\logistic.py:432: FutureWarning: Default solver will be changed to 'lbfgs' in 0.22. Specify a solver to silence this warning.\n",
      "  FutureWarning)\n",
      "C:\\ProgramData\\Anaconda3\\lib\\site-packages\\sklearn\\linear_model\\logistic.py:432: FutureWarning: Default solver will be changed to 'lbfgs' in 0.22. Specify a solver to silence this warning.\n",
      "  FutureWarning)\n"
     ]
    },
    {
     "name": "stderr",
     "output_type": "stream",
     "text": [
      "C:\\ProgramData\\Anaconda3\\lib\\site-packages\\sklearn\\linear_model\\logistic.py:432: FutureWarning: Default solver will be changed to 'lbfgs' in 0.22. Specify a solver to silence this warning.\n",
      "  FutureWarning)\n",
      "C:\\ProgramData\\Anaconda3\\lib\\site-packages\\sklearn\\linear_model\\logistic.py:432: FutureWarning: Default solver will be changed to 'lbfgs' in 0.22. Specify a solver to silence this warning.\n",
      "  FutureWarning)\n",
      "C:\\ProgramData\\Anaconda3\\lib\\site-packages\\sklearn\\linear_model\\logistic.py:432: FutureWarning: Default solver will be changed to 'lbfgs' in 0.22. Specify a solver to silence this warning.\n",
      "  FutureWarning)\n",
      "C:\\ProgramData\\Anaconda3\\lib\\site-packages\\sklearn\\linear_model\\logistic.py:432: FutureWarning: Default solver will be changed to 'lbfgs' in 0.22. Specify a solver to silence this warning.\n",
      "  FutureWarning)\n",
      "C:\\ProgramData\\Anaconda3\\lib\\site-packages\\sklearn\\linear_model\\logistic.py:432: FutureWarning: Default solver will be changed to 'lbfgs' in 0.22. Specify a solver to silence this warning.\n",
      "  FutureWarning)\n",
      "C:\\ProgramData\\Anaconda3\\lib\\site-packages\\sklearn\\linear_model\\logistic.py:432: FutureWarning: Default solver will be changed to 'lbfgs' in 0.22. Specify a solver to silence this warning.\n",
      "  FutureWarning)\n",
      "C:\\ProgramData\\Anaconda3\\lib\\site-packages\\sklearn\\linear_model\\logistic.py:432: FutureWarning: Default solver will be changed to 'lbfgs' in 0.22. Specify a solver to silence this warning.\n",
      "  FutureWarning)\n",
      "C:\\ProgramData\\Anaconda3\\lib\\site-packages\\sklearn\\linear_model\\logistic.py:432: FutureWarning: Default solver will be changed to 'lbfgs' in 0.22. Specify a solver to silence this warning.\n",
      "  FutureWarning)\n",
      "C:\\ProgramData\\Anaconda3\\lib\\site-packages\\sklearn\\linear_model\\logistic.py:432: FutureWarning: Default solver will be changed to 'lbfgs' in 0.22. Specify a solver to silence this warning.\n",
      "  FutureWarning)\n",
      "C:\\ProgramData\\Anaconda3\\lib\\site-packages\\sklearn\\linear_model\\logistic.py:432: FutureWarning: Default solver will be changed to 'lbfgs' in 0.22. Specify a solver to silence this warning.\n",
      "  FutureWarning)\n",
      "C:\\ProgramData\\Anaconda3\\lib\\site-packages\\sklearn\\linear_model\\logistic.py:432: FutureWarning: Default solver will be changed to 'lbfgs' in 0.22. Specify a solver to silence this warning.\n",
      "  FutureWarning)\n",
      "C:\\ProgramData\\Anaconda3\\lib\\site-packages\\sklearn\\linear_model\\logistic.py:432: FutureWarning: Default solver will be changed to 'lbfgs' in 0.22. Specify a solver to silence this warning.\n",
      "  FutureWarning)\n",
      "C:\\ProgramData\\Anaconda3\\lib\\site-packages\\sklearn\\linear_model\\logistic.py:432: FutureWarning: Default solver will be changed to 'lbfgs' in 0.22. Specify a solver to silence this warning.\n",
      "  FutureWarning)\n",
      "C:\\ProgramData\\Anaconda3\\lib\\site-packages\\sklearn\\linear_model\\logistic.py:432: FutureWarning: Default solver will be changed to 'lbfgs' in 0.22. Specify a solver to silence this warning.\n",
      "  FutureWarning)\n",
      "C:\\ProgramData\\Anaconda3\\lib\\site-packages\\sklearn\\linear_model\\logistic.py:432: FutureWarning: Default solver will be changed to 'lbfgs' in 0.22. Specify a solver to silence this warning.\n",
      "  FutureWarning)\n",
      "C:\\ProgramData\\Anaconda3\\lib\\site-packages\\sklearn\\linear_model\\logistic.py:432: FutureWarning: Default solver will be changed to 'lbfgs' in 0.22. Specify a solver to silence this warning.\n",
      "  FutureWarning)\n",
      "C:\\ProgramData\\Anaconda3\\lib\\site-packages\\sklearn\\linear_model\\logistic.py:432: FutureWarning: Default solver will be changed to 'lbfgs' in 0.22. Specify a solver to silence this warning.\n",
      "  FutureWarning)\n",
      "C:\\ProgramData\\Anaconda3\\lib\\site-packages\\sklearn\\linear_model\\logistic.py:432: FutureWarning: Default solver will be changed to 'lbfgs' in 0.22. Specify a solver to silence this warning.\n",
      "  FutureWarning)\n",
      "C:\\ProgramData\\Anaconda3\\lib\\site-packages\\sklearn\\linear_model\\logistic.py:432: FutureWarning: Default solver will be changed to 'lbfgs' in 0.22. Specify a solver to silence this warning.\n",
      "  FutureWarning)\n",
      "C:\\ProgramData\\Anaconda3\\lib\\site-packages\\sklearn\\linear_model\\logistic.py:432: FutureWarning: Default solver will be changed to 'lbfgs' in 0.22. Specify a solver to silence this warning.\n",
      "  FutureWarning)\n",
      "C:\\ProgramData\\Anaconda3\\lib\\site-packages\\sklearn\\linear_model\\logistic.py:432: FutureWarning: Default solver will be changed to 'lbfgs' in 0.22. Specify a solver to silence this warning.\n",
      "  FutureWarning)\n",
      "C:\\ProgramData\\Anaconda3\\lib\\site-packages\\sklearn\\linear_model\\logistic.py:432: FutureWarning: Default solver will be changed to 'lbfgs' in 0.22. Specify a solver to silence this warning.\n",
      "  FutureWarning)\n",
      "C:\\ProgramData\\Anaconda3\\lib\\site-packages\\sklearn\\linear_model\\logistic.py:432: FutureWarning: Default solver will be changed to 'lbfgs' in 0.22. Specify a solver to silence this warning.\n",
      "  FutureWarning)\n",
      "C:\\ProgramData\\Anaconda3\\lib\\site-packages\\sklearn\\linear_model\\logistic.py:432: FutureWarning: Default solver will be changed to 'lbfgs' in 0.22. Specify a solver to silence this warning.\n",
      "  FutureWarning)\n",
      "C:\\ProgramData\\Anaconda3\\lib\\site-packages\\sklearn\\linear_model\\logistic.py:432: FutureWarning: Default solver will be changed to 'lbfgs' in 0.22. Specify a solver to silence this warning.\n",
      "  FutureWarning)\n",
      "C:\\ProgramData\\Anaconda3\\lib\\site-packages\\sklearn\\linear_model\\logistic.py:432: FutureWarning: Default solver will be changed to 'lbfgs' in 0.22. Specify a solver to silence this warning.\n",
      "  FutureWarning)\n",
      "C:\\ProgramData\\Anaconda3\\lib\\site-packages\\sklearn\\linear_model\\logistic.py:432: FutureWarning: Default solver will be changed to 'lbfgs' in 0.22. Specify a solver to silence this warning.\n",
      "  FutureWarning)\n",
      "C:\\ProgramData\\Anaconda3\\lib\\site-packages\\sklearn\\linear_model\\logistic.py:432: FutureWarning: Default solver will be changed to 'lbfgs' in 0.22. Specify a solver to silence this warning.\n",
      "  FutureWarning)\n",
      "C:\\ProgramData\\Anaconda3\\lib\\site-packages\\sklearn\\linear_model\\logistic.py:432: FutureWarning: Default solver will be changed to 'lbfgs' in 0.22. Specify a solver to silence this warning.\n",
      "  FutureWarning)\n",
      "C:\\ProgramData\\Anaconda3\\lib\\site-packages\\sklearn\\linear_model\\logistic.py:432: FutureWarning: Default solver will be changed to 'lbfgs' in 0.22. Specify a solver to silence this warning.\n",
      "  FutureWarning)\n",
      "C:\\ProgramData\\Anaconda3\\lib\\site-packages\\sklearn\\linear_model\\logistic.py:432: FutureWarning: Default solver will be changed to 'lbfgs' in 0.22. Specify a solver to silence this warning.\n",
      "  FutureWarning)\n",
      "C:\\ProgramData\\Anaconda3\\lib\\site-packages\\sklearn\\linear_model\\logistic.py:432: FutureWarning: Default solver will be changed to 'lbfgs' in 0.22. Specify a solver to silence this warning.\n",
      "  FutureWarning)\n",
      "C:\\ProgramData\\Anaconda3\\lib\\site-packages\\sklearn\\linear_model\\logistic.py:432: FutureWarning: Default solver will be changed to 'lbfgs' in 0.22. Specify a solver to silence this warning.\n",
      "  FutureWarning)\n",
      "C:\\ProgramData\\Anaconda3\\lib\\site-packages\\sklearn\\linear_model\\logistic.py:432: FutureWarning: Default solver will be changed to 'lbfgs' in 0.22. Specify a solver to silence this warning.\n",
      "  FutureWarning)\n",
      "C:\\ProgramData\\Anaconda3\\lib\\site-packages\\sklearn\\linear_model\\logistic.py:432: FutureWarning: Default solver will be changed to 'lbfgs' in 0.22. Specify a solver to silence this warning.\n",
      "  FutureWarning)\n",
      "C:\\ProgramData\\Anaconda3\\lib\\site-packages\\sklearn\\linear_model\\logistic.py:432: FutureWarning: Default solver will be changed to 'lbfgs' in 0.22. Specify a solver to silence this warning.\n",
      "  FutureWarning)\n",
      "C:\\ProgramData\\Anaconda3\\lib\\site-packages\\sklearn\\linear_model\\logistic.py:432: FutureWarning: Default solver will be changed to 'lbfgs' in 0.22. Specify a solver to silence this warning.\n",
      "  FutureWarning)\n",
      "C:\\ProgramData\\Anaconda3\\lib\\site-packages\\sklearn\\linear_model\\logistic.py:432: FutureWarning: Default solver will be changed to 'lbfgs' in 0.22. Specify a solver to silence this warning.\n",
      "  FutureWarning)\n",
      "C:\\ProgramData\\Anaconda3\\lib\\site-packages\\sklearn\\linear_model\\logistic.py:432: FutureWarning: Default solver will be changed to 'lbfgs' in 0.22. Specify a solver to silence this warning.\n",
      "  FutureWarning)\n",
      "C:\\ProgramData\\Anaconda3\\lib\\site-packages\\sklearn\\linear_model\\logistic.py:432: FutureWarning: Default solver will be changed to 'lbfgs' in 0.22. Specify a solver to silence this warning.\n",
      "  FutureWarning)\n"
     ]
    },
    {
     "name": "stderr",
     "output_type": "stream",
     "text": [
      "C:\\ProgramData\\Anaconda3\\lib\\site-packages\\sklearn\\linear_model\\logistic.py:432: FutureWarning: Default solver will be changed to 'lbfgs' in 0.22. Specify a solver to silence this warning.\n",
      "  FutureWarning)\n",
      "C:\\ProgramData\\Anaconda3\\lib\\site-packages\\sklearn\\linear_model\\logistic.py:432: FutureWarning: Default solver will be changed to 'lbfgs' in 0.22. Specify a solver to silence this warning.\n",
      "  FutureWarning)\n",
      "C:\\ProgramData\\Anaconda3\\lib\\site-packages\\sklearn\\linear_model\\logistic.py:432: FutureWarning: Default solver will be changed to 'lbfgs' in 0.22. Specify a solver to silence this warning.\n",
      "  FutureWarning)\n",
      "C:\\ProgramData\\Anaconda3\\lib\\site-packages\\sklearn\\linear_model\\logistic.py:432: FutureWarning: Default solver will be changed to 'lbfgs' in 0.22. Specify a solver to silence this warning.\n",
      "  FutureWarning)\n",
      "C:\\ProgramData\\Anaconda3\\lib\\site-packages\\sklearn\\linear_model\\logistic.py:432: FutureWarning: Default solver will be changed to 'lbfgs' in 0.22. Specify a solver to silence this warning.\n",
      "  FutureWarning)\n",
      "C:\\ProgramData\\Anaconda3\\lib\\site-packages\\sklearn\\linear_model\\logistic.py:432: FutureWarning: Default solver will be changed to 'lbfgs' in 0.22. Specify a solver to silence this warning.\n",
      "  FutureWarning)\n",
      "C:\\ProgramData\\Anaconda3\\lib\\site-packages\\sklearn\\linear_model\\logistic.py:432: FutureWarning: Default solver will be changed to 'lbfgs' in 0.22. Specify a solver to silence this warning.\n",
      "  FutureWarning)\n",
      "C:\\ProgramData\\Anaconda3\\lib\\site-packages\\sklearn\\linear_model\\logistic.py:432: FutureWarning: Default solver will be changed to 'lbfgs' in 0.22. Specify a solver to silence this warning.\n",
      "  FutureWarning)\n",
      "C:\\ProgramData\\Anaconda3\\lib\\site-packages\\sklearn\\linear_model\\logistic.py:432: FutureWarning: Default solver will be changed to 'lbfgs' in 0.22. Specify a solver to silence this warning.\n",
      "  FutureWarning)\n",
      "C:\\ProgramData\\Anaconda3\\lib\\site-packages\\sklearn\\linear_model\\logistic.py:432: FutureWarning: Default solver will be changed to 'lbfgs' in 0.22. Specify a solver to silence this warning.\n",
      "  FutureWarning)\n",
      "C:\\ProgramData\\Anaconda3\\lib\\site-packages\\sklearn\\linear_model\\logistic.py:432: FutureWarning: Default solver will be changed to 'lbfgs' in 0.22. Specify a solver to silence this warning.\n",
      "  FutureWarning)\n",
      "C:\\ProgramData\\Anaconda3\\lib\\site-packages\\sklearn\\linear_model\\logistic.py:432: FutureWarning: Default solver will be changed to 'lbfgs' in 0.22. Specify a solver to silence this warning.\n",
      "  FutureWarning)\n",
      "C:\\ProgramData\\Anaconda3\\lib\\site-packages\\sklearn\\linear_model\\logistic.py:432: FutureWarning: Default solver will be changed to 'lbfgs' in 0.22. Specify a solver to silence this warning.\n",
      "  FutureWarning)\n",
      "C:\\ProgramData\\Anaconda3\\lib\\site-packages\\sklearn\\linear_model\\logistic.py:432: FutureWarning: Default solver will be changed to 'lbfgs' in 0.22. Specify a solver to silence this warning.\n",
      "  FutureWarning)\n",
      "C:\\ProgramData\\Anaconda3\\lib\\site-packages\\sklearn\\linear_model\\logistic.py:432: FutureWarning: Default solver will be changed to 'lbfgs' in 0.22. Specify a solver to silence this warning.\n",
      "  FutureWarning)\n",
      "C:\\ProgramData\\Anaconda3\\lib\\site-packages\\sklearn\\linear_model\\logistic.py:432: FutureWarning: Default solver will be changed to 'lbfgs' in 0.22. Specify a solver to silence this warning.\n",
      "  FutureWarning)\n",
      "C:\\ProgramData\\Anaconda3\\lib\\site-packages\\sklearn\\linear_model\\logistic.py:432: FutureWarning: Default solver will be changed to 'lbfgs' in 0.22. Specify a solver to silence this warning.\n",
      "  FutureWarning)\n",
      "C:\\ProgramData\\Anaconda3\\lib\\site-packages\\sklearn\\linear_model\\logistic.py:432: FutureWarning: Default solver will be changed to 'lbfgs' in 0.22. Specify a solver to silence this warning.\n",
      "  FutureWarning)\n",
      "C:\\ProgramData\\Anaconda3\\lib\\site-packages\\sklearn\\linear_model\\logistic.py:432: FutureWarning: Default solver will be changed to 'lbfgs' in 0.22. Specify a solver to silence this warning.\n",
      "  FutureWarning)\n",
      "C:\\ProgramData\\Anaconda3\\lib\\site-packages\\sklearn\\linear_model\\logistic.py:432: FutureWarning: Default solver will be changed to 'lbfgs' in 0.22. Specify a solver to silence this warning.\n",
      "  FutureWarning)\n",
      "C:\\ProgramData\\Anaconda3\\lib\\site-packages\\sklearn\\linear_model\\logistic.py:432: FutureWarning: Default solver will be changed to 'lbfgs' in 0.22. Specify a solver to silence this warning.\n",
      "  FutureWarning)\n",
      "C:\\ProgramData\\Anaconda3\\lib\\site-packages\\sklearn\\linear_model\\logistic.py:432: FutureWarning: Default solver will be changed to 'lbfgs' in 0.22. Specify a solver to silence this warning.\n",
      "  FutureWarning)\n",
      "C:\\ProgramData\\Anaconda3\\lib\\site-packages\\sklearn\\linear_model\\logistic.py:432: FutureWarning: Default solver will be changed to 'lbfgs' in 0.22. Specify a solver to silence this warning.\n",
      "  FutureWarning)\n",
      "C:\\ProgramData\\Anaconda3\\lib\\site-packages\\sklearn\\linear_model\\logistic.py:432: FutureWarning: Default solver will be changed to 'lbfgs' in 0.22. Specify a solver to silence this warning.\n",
      "  FutureWarning)\n",
      "C:\\ProgramData\\Anaconda3\\lib\\site-packages\\sklearn\\linear_model\\logistic.py:432: FutureWarning: Default solver will be changed to 'lbfgs' in 0.22. Specify a solver to silence this warning.\n",
      "  FutureWarning)\n",
      "C:\\ProgramData\\Anaconda3\\lib\\site-packages\\sklearn\\linear_model\\logistic.py:432: FutureWarning: Default solver will be changed to 'lbfgs' in 0.22. Specify a solver to silence this warning.\n",
      "  FutureWarning)\n",
      "C:\\ProgramData\\Anaconda3\\lib\\site-packages\\sklearn\\linear_model\\logistic.py:432: FutureWarning: Default solver will be changed to 'lbfgs' in 0.22. Specify a solver to silence this warning.\n",
      "  FutureWarning)\n",
      "C:\\ProgramData\\Anaconda3\\lib\\site-packages\\sklearn\\linear_model\\logistic.py:432: FutureWarning: Default solver will be changed to 'lbfgs' in 0.22. Specify a solver to silence this warning.\n",
      "  FutureWarning)\n",
      "C:\\ProgramData\\Anaconda3\\lib\\site-packages\\sklearn\\linear_model\\logistic.py:432: FutureWarning: Default solver will be changed to 'lbfgs' in 0.22. Specify a solver to silence this warning.\n",
      "  FutureWarning)\n",
      "C:\\ProgramData\\Anaconda3\\lib\\site-packages\\sklearn\\linear_model\\logistic.py:432: FutureWarning: Default solver will be changed to 'lbfgs' in 0.22. Specify a solver to silence this warning.\n",
      "  FutureWarning)\n",
      "C:\\ProgramData\\Anaconda3\\lib\\site-packages\\sklearn\\linear_model\\logistic.py:432: FutureWarning: Default solver will be changed to 'lbfgs' in 0.22. Specify a solver to silence this warning.\n",
      "  FutureWarning)\n",
      "C:\\ProgramData\\Anaconda3\\lib\\site-packages\\sklearn\\linear_model\\logistic.py:432: FutureWarning: Default solver will be changed to 'lbfgs' in 0.22. Specify a solver to silence this warning.\n",
      "  FutureWarning)\n",
      "C:\\ProgramData\\Anaconda3\\lib\\site-packages\\sklearn\\linear_model\\logistic.py:432: FutureWarning: Default solver will be changed to 'lbfgs' in 0.22. Specify a solver to silence this warning.\n",
      "  FutureWarning)\n",
      "C:\\ProgramData\\Anaconda3\\lib\\site-packages\\sklearn\\linear_model\\logistic.py:432: FutureWarning: Default solver will be changed to 'lbfgs' in 0.22. Specify a solver to silence this warning.\n",
      "  FutureWarning)\n",
      "C:\\ProgramData\\Anaconda3\\lib\\site-packages\\sklearn\\linear_model\\logistic.py:432: FutureWarning: Default solver will be changed to 'lbfgs' in 0.22. Specify a solver to silence this warning.\n",
      "  FutureWarning)\n",
      "C:\\ProgramData\\Anaconda3\\lib\\site-packages\\sklearn\\linear_model\\logistic.py:432: FutureWarning: Default solver will be changed to 'lbfgs' in 0.22. Specify a solver to silence this warning.\n",
      "  FutureWarning)\n",
      "C:\\ProgramData\\Anaconda3\\lib\\site-packages\\sklearn\\linear_model\\logistic.py:432: FutureWarning: Default solver will be changed to 'lbfgs' in 0.22. Specify a solver to silence this warning.\n",
      "  FutureWarning)\n",
      "C:\\ProgramData\\Anaconda3\\lib\\site-packages\\sklearn\\linear_model\\logistic.py:432: FutureWarning: Default solver will be changed to 'lbfgs' in 0.22. Specify a solver to silence this warning.\n",
      "  FutureWarning)\n",
      "C:\\ProgramData\\Anaconda3\\lib\\site-packages\\sklearn\\linear_model\\logistic.py:432: FutureWarning: Default solver will be changed to 'lbfgs' in 0.22. Specify a solver to silence this warning.\n",
      "  FutureWarning)\n",
      "C:\\ProgramData\\Anaconda3\\lib\\site-packages\\sklearn\\linear_model\\logistic.py:432: FutureWarning: Default solver will be changed to 'lbfgs' in 0.22. Specify a solver to silence this warning.\n",
      "  FutureWarning)\n"
     ]
    },
    {
     "name": "stderr",
     "output_type": "stream",
     "text": [
      "C:\\ProgramData\\Anaconda3\\lib\\site-packages\\sklearn\\linear_model\\logistic.py:432: FutureWarning: Default solver will be changed to 'lbfgs' in 0.22. Specify a solver to silence this warning.\n",
      "  FutureWarning)\n",
      "C:\\ProgramData\\Anaconda3\\lib\\site-packages\\sklearn\\linear_model\\logistic.py:432: FutureWarning: Default solver will be changed to 'lbfgs' in 0.22. Specify a solver to silence this warning.\n",
      "  FutureWarning)\n",
      "C:\\ProgramData\\Anaconda3\\lib\\site-packages\\sklearn\\linear_model\\logistic.py:432: FutureWarning: Default solver will be changed to 'lbfgs' in 0.22. Specify a solver to silence this warning.\n",
      "  FutureWarning)\n"
     ]
    },
    {
     "data": {
      "text/plain": [
       "('11223', 0.7919463087248322)"
      ]
     },
     "execution_count": 180,
     "metadata": {},
     "output_type": "execute_result"
    }
   ],
   "source": [
    "ensemble_accuracy={}\n",
    "for w1 in range(1,4):\n",
    "    for w2 in range(1,4):\n",
    "        for w3 in range(1,4):\n",
    "            for w4 in range(1,4):\n",
    "                for w5 in range(1,4):\n",
    "                    ensemble_model_b = VotingClassifier(estimators=[('log_b', log_b),('rfc_b', rfc_b),('Gboost_b', Gboost_b),('adaboost_b', adaboost_b),('Xgb', alg)], voting='soft',weights=[w1,w2,w3,w4,w5])\n",
    "                    ensemble_model_b.fit(X_train_b, y_train_b)\n",
    "                    ensemble_model_pred_b = ensemble_model_b.predict(X_val_b)\n",
    "                    ensemble_accuracy[str(w1)+str(w2)+str(w3)+str(w4)+str(w5)]=accuracy_score(y_val_b,ensemble_model_pred_b)\n",
    "                    #print('Accuracy' ,accuracy_score(y_val_b,ensemble_model_pred_b))\n",
    "                    #print('{w1},{w2},{w3},{w4},{w5}'.format(w1=w1,w2=w2,w3=w3,w4=w4,w5=w5))\n",
    "                    \n",
    "ensemble_accuracy_list=sorted(ensemble_accuracy.items(), key=lambda x: x[1], reverse=False)[1]\n",
    "ensemble_accuracy_list                    \n"
   ]
  },
  {
   "cell_type": "code",
   "execution_count": 195,
   "metadata": {},
   "outputs": [
    {
     "data": {
      "text/plain": [
       "('32122', 0.7181208053691275)"
      ]
     },
     "execution_count": 195,
     "metadata": {},
     "output_type": "execute_result"
    }
   ],
   "source": [
    "ensemble_accuracy_list=sorted(ensemble_accuracy.items(), key=lambda x: x[1], reverse=False)[1]\n",
    "ensemble_accuracy_list"
   ]
  },
  {
   "cell_type": "code",
   "execution_count": 197,
   "metadata": {},
   "outputs": [
    {
     "data": {
      "text/plain": [
       "[('32112', 0.7181208053691275),\n",
       " ('32122', 0.7181208053691275),\n",
       " ('32132', 0.7181208053691275),\n",
       " ('32113', 0.7248322147651006),\n",
       " ('32123', 0.7248322147651006),\n",
       " ('32133', 0.7248322147651006),\n",
       " ('33113', 0.7248322147651006),\n",
       " ('33123', 0.7248322147651006),\n",
       " ('33133', 0.7248322147651006),\n",
       " ('21112', 0.7315436241610739),\n",
       " ('21122', 0.7315436241610739),\n",
       " ('21132', 0.7315436241610739),\n",
       " ('22112', 0.7315436241610739),\n",
       " ('22122', 0.7315436241610739),\n",
       " ('22132', 0.7315436241610739),\n",
       " ('31112', 0.7315436241610739),\n",
       " ('31122', 0.7315436241610739),\n",
       " ('31132', 0.7315436241610739),\n",
       " ('32111', 0.7315436241610739),\n",
       " ('32121', 0.7315436241610739),\n",
       " ('32131', 0.7315436241610739),\n",
       " ('33112', 0.7315436241610739),\n",
       " ('33122', 0.7315436241610739),\n",
       " ('33132', 0.7315436241610739),\n",
       " ('21113', 0.738255033557047),\n",
       " ('21123', 0.738255033557047),\n",
       " ('21133', 0.738255033557047),\n",
       " ('22113', 0.738255033557047),\n",
       " ('22123', 0.738255033557047),\n",
       " ('22133', 0.738255033557047),\n",
       " ('23113', 0.738255033557047),\n",
       " ('23123', 0.738255033557047),\n",
       " ('23133', 0.738255033557047),\n",
       " ('31111', 0.738255033557047),\n",
       " ('31121', 0.738255033557047),\n",
       " ('31131', 0.738255033557047),\n",
       " ('21111', 0.7449664429530202),\n",
       " ('21121', 0.7449664429530202),\n",
       " ('21131', 0.7449664429530202),\n",
       " ('22111', 0.7449664429530202),\n",
       " ('22121', 0.7449664429530202),\n",
       " ('22131', 0.7449664429530202),\n",
       " ('31113', 0.7449664429530202),\n",
       " ('31123', 0.7449664429530202),\n",
       " ('31133', 0.7449664429530202),\n",
       " ('33111', 0.7449664429530202),\n",
       " ('33121', 0.7449664429530202),\n",
       " ('33131', 0.7449664429530202),\n",
       " ('33211', 0.7449664429530202),\n",
       " ('33212', 0.7449664429530202),\n",
       " ('33221', 0.7449664429530202),\n",
       " ('33231', 0.7449664429530202),\n",
       " ('13112', 0.7516778523489933),\n",
       " ('13113', 0.7516778523489933),\n",
       " ('13122', 0.7516778523489933),\n",
       " ('13123', 0.7516778523489933),\n",
       " ('13132', 0.7516778523489933),\n",
       " ('13133', 0.7516778523489933),\n",
       " ('23112', 0.7516778523489933),\n",
       " ('23122', 0.7516778523489933),\n",
       " ('23132', 0.7516778523489933),\n",
       " ('31231', 0.7516778523489933),\n",
       " ('32211', 0.7516778523489933),\n",
       " ('32221', 0.7516778523489933),\n",
       " ('33213', 0.7516778523489933),\n",
       " ('33222', 0.7516778523489933),\n",
       " ('33223', 0.7516778523489933),\n",
       " ('33232', 0.7516778523489933),\n",
       " ('33233', 0.7516778523489933),\n",
       " ('12112', 0.7583892617449665),\n",
       " ('12122', 0.7583892617449665),\n",
       " ('12132', 0.7583892617449665),\n",
       " ('31211', 0.7583892617449665),\n",
       " ('31212', 0.7583892617449665),\n",
       " ('31213', 0.7583892617449665),\n",
       " ('31221', 0.7583892617449665),\n",
       " ('31222', 0.7583892617449665),\n",
       " ('31223', 0.7583892617449665),\n",
       " ('31232', 0.7583892617449665),\n",
       " ('31233', 0.7583892617449665),\n",
       " ('31311', 0.7583892617449665),\n",
       " ('31312', 0.7583892617449665),\n",
       " ('31321', 0.7583892617449665),\n",
       " ('31322', 0.7583892617449665),\n",
       " ('31331', 0.7583892617449665),\n",
       " ('31332', 0.7583892617449665),\n",
       " ('32213', 0.7583892617449665),\n",
       " ('32223', 0.7583892617449665),\n",
       " ('32231', 0.7583892617449665),\n",
       " ('32233', 0.7583892617449665),\n",
       " ('11113', 0.7651006711409396),\n",
       " ('11123', 0.7651006711409396),\n",
       " ('11133', 0.7651006711409396),\n",
       " ('11311', 0.7651006711409396),\n",
       " ('11321', 0.7651006711409396),\n",
       " ('11331', 0.7651006711409396),\n",
       " ('11332', 0.7651006711409396),\n",
       " ('12111', 0.7651006711409396),\n",
       " ('12113', 0.7651006711409396),\n",
       " ('12121', 0.7651006711409396),\n",
       " ('12123', 0.7651006711409396),\n",
       " ('12131', 0.7651006711409396),\n",
       " ('12133', 0.7651006711409396),\n",
       " ('13111', 0.7651006711409396),\n",
       " ('13121', 0.7651006711409396),\n",
       " ('13131', 0.7651006711409396),\n",
       " ('13211', 0.7651006711409396),\n",
       " ('13221', 0.7651006711409396),\n",
       " ('13231', 0.7651006711409396),\n",
       " ('21211', 0.7651006711409396),\n",
       " ('21212', 0.7651006711409396),\n",
       " ('21213', 0.7651006711409396),\n",
       " ('21221', 0.7651006711409396),\n",
       " ('21222', 0.7651006711409396),\n",
       " ('21223', 0.7651006711409396),\n",
       " ('21231', 0.7651006711409396),\n",
       " ('21232', 0.7651006711409396),\n",
       " ('21233', 0.7651006711409396),\n",
       " ('21311', 0.7651006711409396),\n",
       " ('21312', 0.7651006711409396),\n",
       " ('21321', 0.7651006711409396),\n",
       " ('21322', 0.7651006711409396),\n",
       " ('21331', 0.7651006711409396),\n",
       " ('21332', 0.7651006711409396),\n",
       " ('22211', 0.7651006711409396),\n",
       " ('22221', 0.7651006711409396),\n",
       " ('22231', 0.7651006711409396),\n",
       " ('23111', 0.7651006711409396),\n",
       " ('23121', 0.7651006711409396),\n",
       " ('23131', 0.7651006711409396),\n",
       " ('31313', 0.7651006711409396),\n",
       " ('31323', 0.7651006711409396),\n",
       " ('31333', 0.7651006711409396),\n",
       " ('32212', 0.7651006711409396),\n",
       " ('32222', 0.7651006711409396),\n",
       " ('32232', 0.7651006711409396),\n",
       " ('32312', 0.7651006711409396),\n",
       " ('32313', 0.7651006711409396),\n",
       " ('32322', 0.7651006711409396),\n",
       " ('32323', 0.7651006711409396),\n",
       " ('32332', 0.7651006711409396),\n",
       " ('32333', 0.7651006711409396),\n",
       " ('33311', 0.7651006711409396),\n",
       " ('33321', 0.7651006711409396),\n",
       " ('33331', 0.7651006711409396),\n",
       " ('11111', 0.7718120805369127),\n",
       " ('11112', 0.7718120805369127),\n",
       " ('11121', 0.7718120805369127),\n",
       " ('11131', 0.7718120805369127),\n",
       " ('11312', 0.7718120805369127),\n",
       " ('11313', 0.7718120805369127),\n",
       " ('11322', 0.7718120805369127),\n",
       " ('11323', 0.7718120805369127),\n",
       " ('11333', 0.7718120805369127),\n",
       " ('12211', 0.7718120805369127),\n",
       " ('12221', 0.7718120805369127),\n",
       " ('12231', 0.7718120805369127),\n",
       " ('12311', 0.7718120805369127),\n",
       " ('12312', 0.7718120805369127),\n",
       " ('12321', 0.7718120805369127),\n",
       " ('12322', 0.7718120805369127),\n",
       " ('12331', 0.7718120805369127),\n",
       " ('12332', 0.7718120805369127),\n",
       " ('13212', 0.7718120805369127),\n",
       " ('13213', 0.7718120805369127),\n",
       " ('13222', 0.7718120805369127),\n",
       " ('13223', 0.7718120805369127),\n",
       " ('13232', 0.7718120805369127),\n",
       " ('13233', 0.7718120805369127),\n",
       " ('13312', 0.7718120805369127),\n",
       " ('13322', 0.7718120805369127),\n",
       " ('21313', 0.7718120805369127),\n",
       " ('21323', 0.7718120805369127),\n",
       " ('21333', 0.7718120805369127),\n",
       " ('22212', 0.7718120805369127),\n",
       " ('22213', 0.7718120805369127),\n",
       " ('22222', 0.7718120805369127),\n",
       " ('22223', 0.7718120805369127),\n",
       " ('22232', 0.7718120805369127),\n",
       " ('22233', 0.7718120805369127),\n",
       " ('23211', 0.7718120805369127),\n",
       " ('23221', 0.7718120805369127),\n",
       " ('23231', 0.7718120805369127),\n",
       " ('32311', 0.7718120805369127),\n",
       " ('32321', 0.7718120805369127),\n",
       " ('32331', 0.7718120805369127),\n",
       " ('33312', 0.7718120805369127),\n",
       " ('33313', 0.7718120805369127),\n",
       " ('33322', 0.7718120805369127),\n",
       " ('33323', 0.7718120805369127),\n",
       " ('33332', 0.7718120805369127),\n",
       " ('33333', 0.7718120805369127),\n",
       " ('11132', 0.7785234899328859),\n",
       " ('11211', 0.7785234899328859),\n",
       " ('11221', 0.7785234899328859),\n",
       " ('11231', 0.7785234899328859),\n",
       " ('12212', 0.7785234899328859),\n",
       " ('12213', 0.7785234899328859),\n",
       " ('12222', 0.7785234899328859),\n",
       " ('12223', 0.7785234899328859),\n",
       " ('12232', 0.7785234899328859),\n",
       " ('12233', 0.7785234899328859),\n",
       " ('12313', 0.7785234899328859),\n",
       " ('12323', 0.7785234899328859),\n",
       " ('12333', 0.7785234899328859),\n",
       " ('13311', 0.7785234899328859),\n",
       " ('13313', 0.7785234899328859),\n",
       " ('13321', 0.7785234899328859),\n",
       " ('13323', 0.7785234899328859),\n",
       " ('13331', 0.7785234899328859),\n",
       " ('13332', 0.7785234899328859),\n",
       " ('13333', 0.7785234899328859),\n",
       " ('23212', 0.7785234899328859),\n",
       " ('23213', 0.7785234899328859),\n",
       " ('23222', 0.7785234899328859),\n",
       " ('23223', 0.7785234899328859),\n",
       " ('23232', 0.7785234899328859),\n",
       " ('23233', 0.7785234899328859),\n",
       " ('23311', 0.7785234899328859),\n",
       " ('23321', 0.7785234899328859),\n",
       " ('23331', 0.7785234899328859),\n",
       " ('11122', 0.785234899328859),\n",
       " ('11212', 0.785234899328859),\n",
       " ('11222', 0.785234899328859),\n",
       " ('11232', 0.785234899328859),\n",
       " ('22313', 0.785234899328859),\n",
       " ('22323', 0.785234899328859),\n",
       " ('22333', 0.785234899328859),\n",
       " ('23312', 0.785234899328859),\n",
       " ('23322', 0.785234899328859),\n",
       " ('23332', 0.785234899328859),\n",
       " ('11213', 0.7919463087248322),\n",
       " ('11223', 0.7919463087248322),\n",
       " ('11233', 0.7919463087248322),\n",
       " ('22311', 0.7919463087248322),\n",
       " ('22312', 0.7919463087248322),\n",
       " ('22321', 0.7919463087248322),\n",
       " ('22322', 0.7919463087248322),\n",
       " ('22331', 0.7919463087248322),\n",
       " ('22332', 0.7919463087248322),\n",
       " ('23313', 0.7919463087248322),\n",
       " ('23323', 0.7919463087248322),\n",
       " ('23333', 0.7919463087248322)]"
      ]
     },
     "execution_count": 197,
     "metadata": {},
     "output_type": "execute_result"
    }
   ],
   "source": [
    "sorted(ensemble_accuracy.items(), key=lambda x: x[1], reverse=False)"
   ]
  },
  {
   "cell_type": "code",
   "execution_count": 182,
   "metadata": {},
   "outputs": [
    {
     "name": "stderr",
     "output_type": "stream",
     "text": [
      "C:\\ProgramData\\Anaconda3\\lib\\site-packages\\sklearn\\linear_model\\logistic.py:432: FutureWarning: Default solver will be changed to 'lbfgs' in 0.22. Specify a solver to silence this warning.\n",
      "  FutureWarning)\n"
     ]
    },
    {
     "name": "stdout",
     "output_type": "stream",
     "text": [
      "Confusion_Matrix \n",
      " [[63 13]\n",
      " [18 55]]\n",
      "Classification_Report \n",
      " \n",
      "               precision    recall  f1-score   support\n",
      "\n",
      "           0       0.78      0.83      0.80        76\n",
      "           1       0.81      0.75      0.78        73\n",
      "\n",
      "    accuracy                           0.79       149\n",
      "   macro avg       0.79      0.79      0.79       149\n",
      "weighted avg       0.79      0.79      0.79       149\n",
      "\n",
      "Accuracy 0.7919463087248322\n",
      "1,1,2,2,3\n"
     ]
    }
   ],
   "source": [
    "# Best accuracy for optimized weight -\n",
    "#Accuracy  0.7986577181208053\n",
    "#22123\n",
    "w1=1\n",
    "w2=1\n",
    "w3=2\n",
    "w4=2\n",
    "w5=3\n",
    "ensemble_model_b = VotingClassifier(estimators=[('log_b', log_b),\n",
    "                                                ('rfc_b', rfc_b),\n",
    "                                                ('Gboost_b', Gboost_b),\n",
    "                                                ('adaboost_b', adaboost_b),\n",
    "                                                ('Xgb', alg)], \n",
    "                                                voting='soft',weights=[w1,w2,w3,w4,w5])\n",
    "ensemble_model_b.fit(X_train_b, y_train_b)\n",
    "ensemble_model_pred_b = ensemble_model_b.predict(X_val_b)\n",
    "print('Confusion_Matrix \\n',confusion_matrix(y_val_b,ensemble_model_pred_b))\n",
    "print('Classification_Report \\n \\n',classification_report(y_val_b,ensemble_model_pred_b))\n",
    "print('Accuracy' ,accuracy_score(y_val_b,ensemble_model_pred_b))\n",
    "print('{w1},{w2},{w3},{w4},{w5}'.format(w1=w1,w2=w2,w3=w3,w4=w4,w5=w5))"
   ]
  },
  {
   "cell_type": "markdown",
   "metadata": {},
   "source": [
    "### Save All Models"
   ]
  },
  {
   "cell_type": "code",
   "execution_count": 183,
   "metadata": {},
   "outputs": [],
   "source": [
    "pickle.dump(log_b, open('log_b', 'wb'))\n",
    "pickle.dump(dtree_b, open('dtree_b', 'wb'))\n",
    "pickle.dump(rfc_b, open('rfc_b', 'wb'))\n",
    "pickle.dump(Gboost_b, open('Gboost_b', 'wb'))\n",
    "pickle.dump(adaboost_b, open('adaboost_b', 'wb'))\n",
    "pickle.dump(knn, open('knn', 'wb'))\n",
    "pickle.dump(svc_b, open('svc_b', 'wb'))\n",
    "pickle.dump(alg, open('alg', 'wb'))\n",
    "\n",
    "\n"
   ]
  },
  {
   "cell_type": "code",
   "execution_count": 210,
   "metadata": {},
   "outputs": [
    {
     "name": "stdout",
     "output_type": "stream",
     "text": [
      "LogisticRegression(C=1.0, class_weight=None, dual=False, fit_intercept=True,\n",
      "                   intercept_scaling=1, l1_ratio=None, max_iter=100,\n",
      "                   multi_class='warn', n_jobs=None, penalty='l2',\n",
      "                   random_state=101, solver='warn', tol=0.0001, verbose=0,\n",
      "                   warm_start=False)\n",
      "DecisionTreeClassifier(class_weight=None, criterion='gini', max_depth=None,\n",
      "                       max_features=None, max_leaf_nodes=None,\n",
      "                       min_impurity_decrease=0.0, min_impurity_split=None,\n",
      "                       min_samples_leaf=1, min_samples_split=2,\n",
      "                       min_weight_fraction_leaf=0.0, presort=False,\n",
      "                       random_state=101, splitter='best')\n",
      "RandomForestClassifier(bootstrap=True, class_weight=None, criterion='entropy',\n",
      "                       max_depth=40, max_features='sqrt', max_leaf_nodes=None,\n",
      "                       min_impurity_decrease=0.0, min_impurity_split=None,\n",
      "                       min_samples_leaf=1, min_samples_split=5,\n",
      "                       min_weight_fraction_leaf=0.0, n_estimators=233,\n",
      "                       n_jobs=None, oob_score=False, random_state=101,\n",
      "                       verbose=0, warm_start=False)\n",
      "GradientBoostingClassifier(criterion='friedman_mse', init=None,\n",
      "                           learning_rate=0.1, loss='deviance', max_depth=3,\n",
      "                           max_features=None, max_leaf_nodes=None,\n",
      "                           min_impurity_decrease=0.0, min_impurity_split=None,\n",
      "                           min_samples_leaf=1, min_samples_split=5,\n",
      "                           min_weight_fraction_leaf=0.0, n_estimators=100,\n",
      "                           n_iter_no_change=None, presort='auto',\n",
      "                           random_state=1, subsample=0.8, tol=0.0001,\n",
      "                           validation_fraction=0.1, verbose=0,\n",
      "                           warm_start=False)\n",
      "AdaBoostClassifier(algorithm='SAMME.R',\n",
      "                   base_estimator=DecisionTreeClassifier(class_weight=None,\n",
      "                                                         criterion='gini',\n",
      "                                                         max_depth=1,\n",
      "                                                         max_features=None,\n",
      "                                                         max_leaf_nodes=None,\n",
      "                                                         min_impurity_decrease=0.0,\n",
      "                                                         min_impurity_split=None,\n",
      "                                                         min_samples_leaf=1,\n",
      "                                                         min_samples_split=2,\n",
      "                                                         min_weight_fraction_leaf=0.0,\n",
      "                                                         presort=False,\n",
      "                                                         random_state=None,\n",
      "                                                         splitter='best'),\n",
      "                   learning_rate=1, n_estimators=200, random_state=1)\n",
      "KNeighborsClassifier(algorithm='auto', leaf_size=30, metric='euclidean',\n",
      "                     metric_params=None, n_jobs=None, n_neighbors=5, p=2,\n",
      "                     weights='uniform')\n",
      "SVC(C=1.0, cache_size=200, class_weight=None, coef0=0.0,\n",
      "    decision_function_shape='ovr', degree=3, gamma='auto_deprecated',\n",
      "    kernel='rbf', max_iter=-1, probability=True, random_state=101,\n",
      "    shrinking=True, tol=0.001, verbose=False)\n",
      "XGBClassifier(base_score=0.5, booster='gbtree', colsample_bylevel=1,\n",
      "              colsample_bynode=1, colsample_bytree=0.8, gamma=0,\n",
      "              learning_rate=0.1, max_delta_step=0, max_depth=5,\n",
      "              min_child_weight=1, missing=None, n_estimators=29, n_jobs=1,\n",
      "              nthread=4, objective='binary:logistic', random_state=1,\n",
      "              reg_alpha=0, reg_lambda=1, scale_pos_weight=1, seed=27,\n",
      "              silent=None, subsample=0.8, verbosity=1)\n"
     ]
    }
   ],
   "source": [
    "print(log_b)\n",
    "print(dtree_b)\n",
    "print(rfc_b)\n",
    "print(Gboost_b)\n",
    "print(adaboost_b)\n",
    "print(knn)\n",
    "print(svc_b)\n",
    "print(alg)\n"
   ]
  },
  {
   "cell_type": "code",
   "execution_count": null,
   "metadata": {},
   "outputs": [],
   "source": [
    "'''\n",
    "\n",
    "def mean_probability_prediction(region,size,location,feature_name,feature_value): \n",
    "    testcase1= alg.predict_proba(df_RCI_X_encoded.loc[df_RCI[(df_RCI['Region']==region)  & (df_RCI['Size Category (NB)']==size) & (df_RCI['Location']==location) & (df_RCI[feature_name]==feature_value) ].index])\n",
    "    df_testcase1= pd.DataFrame(data=testcase1,columns=['un-ruptured','ruptured'])\n",
    "    print(df_testcase1)\n",
    "    print('Mean_probability',df_testcase1.mean())\n",
    "    print('Rutured count',df_testcase1[df_testcase1['ruptured']>=.5]['ruptured'].count())\n",
    "    print('Total Count',df_testcase1.count()['ruptured'])\n",
    "'''  "
   ]
  },
  {
   "cell_type": "code",
   "execution_count": null,
   "metadata": {},
   "outputs": [],
   "source": [
    "df_RCI['Location'].value_counts()"
   ]
  },
  {
   "cell_type": "markdown",
   "metadata": {
    "collapsed": true
   },
   "source": [
    "### Location Specific Model"
   ]
  },
  {
   "cell_type": "code",
   "execution_count": 184,
   "metadata": {},
   "outputs": [],
   "source": [
    "def loc_specific_model(df_RCI_loc,loc,balance=True):\n",
    "    loc_accuracy={}\n",
    "    # balance the data\n",
    "    if balance:\n",
    "        no_Ruptured_loc = len(df_RCI_loc[df_RCI_loc['Status'] == 'Ruptured'])\n",
    "        unruptured_indices_loc = df_RCI_loc[df_RCI_loc['Status'] == 'Un-Ruptured'].index\n",
    "        random_indices_loc = np.random.choice(unruptured_indices_loc,no_Ruptured_loc,replace=True)\n",
    "        ruptured_indices_loc = df_RCI_loc[df_RCI_loc['Status'] == 'Ruptured'].index\n",
    "        under_sample_indices_loc = np.concatenate([ruptured_indices_loc,random_indices_loc])\n",
    "        df_RCI_balanced_loc = df_RCI.loc[under_sample_indices_loc]\n",
    "        \n",
    "        #df_RCI_balanced_loc=pd.read_csv('loc_specific_model'+loc+'.csv')\n",
    "        \n",
    "        df_RCI_balanced_loc_X=df_RCI_balanced_loc[RCI_features]\n",
    "        df_RCI_balanced_loc_Y=df_RCI_balanced_loc[RCI_label]\n",
    "        #df_RCI_balanced_loc.to_csv('loc_specific_model'+loc+'.csv')\n",
    "       \n",
    "    else :\n",
    "        df_RCI_balanced_loc_X=df_RCI_loc[RCI_features]\n",
    "        df_RCI_balanced_loc_Y=df_RCI_loc[RCI_label]\n",
    "        \n",
    "    # Create Encoding\n",
    "    df_RCI_loc_X_balanced_encoded= df_RCI_balanced_loc_X.copy()       \n",
    "    encode = {}\n",
    "    for column in df_RCI_loc_X_balanced_encoded.columns:\n",
    "        if df_RCI_loc_X_balanced_encoded.dtypes[column] == np.object:\n",
    "            encode[column] = LabelEncoder()\n",
    "            df_RCI_loc_X_balanced_encoded[column] = encode[column].fit_transform(df_RCI_loc_X_balanced_encoded[column])\n",
    "    \n",
    "    # Test Train Split \n",
    "    loc_X_train_b, loc_X_val_b, loc_y_train_b, loc_y_val_b = train_test_split(df_RCI_loc_X_balanced_encoded, \n",
    "                                                    df_RCI_balanced_loc_Y, test_size=0.10, \n",
    "                                                    random_state=1)\n",
    "    # Logistic Regression \n",
    "    log_loc_b = LogisticRegression(random_state=1)\n",
    "    log_loc_b.fit(loc_X_train_b, loc_y_train_b)\n",
    "    log_loc_pred_b = log_loc_b.predict(loc_X_val_b)\n",
    "    loc_accuracy['Logistics Regression']=accuracy_score(loc_y_val_b,log_loc_pred_b)\n",
    "    #print('Logistic Regression  Accuracy' ,accuracy_score(loc_y_val_b,log_loc_pred_b))\n",
    "    \n",
    "    # Decision Tree Classifier\n",
    "    dtree_loc_b = DecisionTreeClassifier(random_state=1)\n",
    "    dtree_loc_b.fit(loc_X_train_b, loc_y_train_b)\n",
    "    dtree_loc_pred_b = dtree_loc_b.predict(loc_X_val_b)\n",
    "    loc_accuracy['DTC']=accuracy_score(loc_y_val_b,dtree_loc_pred_b)\n",
    "    #print('Decision Tree Accuracy' ,accuracy_score(loc_y_val_b,dtree_loc_pred_b))\n",
    "    \n",
    "    # Random Forest\n",
    "    rfc_loc_b = RandomForestClassifier(n_estimators=100,criterion='entropy',random_state=1)\n",
    "    rfc_loc_b.fit(loc_X_train_b, loc_y_train_b)\n",
    "    rfc_loc_pred_b = rfc_loc_b.predict(loc_X_val_b)\n",
    "    loc_accuracy['RFC']=accuracy_score(loc_y_val_b,rfc_loc_pred_b)\n",
    "    #print('Random Forest Classifier Accuracy' ,accuracy_score(loc_y_val_b,rfc_loc_pred_b))\n",
    "\n",
    "    # Adaboost\n",
    "   \n",
    "    adaboost_loc_b = AdaBoostClassifier(random_state=1)\n",
    "    adaboost_loc_b.fit(loc_X_train_b, loc_y_train_b)\n",
    "    adaboost_loc_b_pred = adaboost_loc_b.predict(loc_X_val_b)\n",
    "    loc_accuracy['AdaBoost']=accuracy_score(loc_y_val_b,adaboost_loc_b_pred)\n",
    "    #print('Adaptive Boosting Accuracy' ,accuracy_score(loc_y_val_b,adaboost_loc_b_pred))\n",
    "    \n",
    "    # Gradient Boost\n",
    "\n",
    "    Gboost_loc_b = GradientBoostingClassifier(learning_rate=0.01,random_state=1)\n",
    "    Gboost_loc_b.fit(loc_X_train_b, loc_y_train_b)\n",
    "    Gboost_loc_pred_b = Gboost_loc_b.predict(loc_X_val_b)\n",
    "    loc_accuracy['GBoost']=accuracy_score(loc_y_val_b,Gboost_loc_pred_b)\n",
    "    #print('Gradient Boost Accuracy' ,accuracy_score(loc_y_val_b,Gboost_loc_pred_b))\n",
    "    \n",
    "    # Xtreme Gradient Boost\n",
    "    \n",
    "    XG_loc_y_train_b=loc_y_train_b['Status'].map({'Un-Ruptured' :0 ,'Ruptured':1})\n",
    "    XG_loc_y_val_b=loc_y_val_b['Status'].map({'Un-Ruptured' :0 ,'Ruptured':1})\n",
    "\n",
    "    useTrainCV=True\n",
    "    cv_folds=7\n",
    "    early_stopping_rounds=50\n",
    "\n",
    "    alg = XGBClassifier(learning_rate =0.1,n_estimators=1000,max_depth=5,min_child_weight=1,gamma=0,subsample=0.8,\n",
    "                        colsample_bytree=0.8,objective= 'binary:logistic',nthread=4,scale_pos_weight=1,seed=27,random_state=1)\n",
    "\n",
    "    xgb_param = alg.get_xgb_params()\n",
    "    xgtrain = xgb.DMatrix(loc_X_train_b, label=XG_loc_y_train_b.values)\n",
    "    cvresult = xgb.cv(xgb_param, xgtrain, num_boost_round=alg.get_params()['n_estimators'], nfold=cv_folds,metrics='auc', early_stopping_rounds=early_stopping_rounds)\n",
    "    alg.set_params(n_estimators=cvresult.shape[0])\n",
    "\n",
    "    #Fit the algorithm on the data\n",
    "    alg.fit(loc_X_train_b, XG_loc_y_train_b,eval_metric='auc')\n",
    "\n",
    "    # Predict Test Set \n",
    "    dtest_predictions = alg.predict(loc_X_val_b)\n",
    "    loc_accuracy['XGBoost']=accuracy_score(XG_loc_y_val_b, dtest_predictions)\n",
    "    print('Confusion_Matrix \\n',confusion_matrix(XG_loc_y_val_b, dtest_predictions))\n",
    "    print('Classification_Report \\n \\n',classification_report(XG_loc_y_val_b, dtest_predictions))\n",
    "    print('XGB Accuracy',accuracy_score(XG_loc_y_val_b, dtest_predictions))\n",
    "\n",
    "    # KNN\n",
    "    knn_loc_b = KNeighborsClassifier(n_neighbors=5, metric='euclidean')\n",
    "    knn_loc_b.fit(loc_X_train_b, loc_y_train_b)\n",
    "    knn_loc_b_pred = knn_loc_b.predict(loc_X_val_b)\n",
    "    loc_accuracy['KNN']=accuracy_score(loc_y_val_b,knn_loc_b_pred)\n",
    "    #print('KNN Accuracy' ,accuracy_score(loc_y_val_b,knn_loc_b_pred))\n",
    "    return loc_accuracy\n"
   ]
  },
  {
   "cell_type": "code",
   "execution_count": null,
   "metadata": {},
   "outputs": [],
   "source": [
    "location_list =['Superaclanoid Internal Carotid Artery',  \n",
    "                'Anterior Communicating Artery',         \n",
    "                'MCA',                                    \n",
    "                'Paraclinoid'\n",
    "]"
   ]
  },
  {
   "cell_type": "code",
   "execution_count": null,
   "metadata": {},
   "outputs": [],
   "source": [
    "#df_RCI[df_RCI_X['Location']=='Anterior Communicating Artery']['Status'].value_counts()"
   ]
  },
  {
   "cell_type": "markdown",
   "metadata": {},
   "source": [
    "### Location Specific Model - MCA - XGB"
   ]
  },
  {
   "cell_type": "code",
   "execution_count": 185,
   "metadata": {
    "scrolled": true
   },
   "outputs": [
    {
     "name": "stderr",
     "output_type": "stream",
     "text": [
      "C:\\ProgramData\\Anaconda3\\lib\\site-packages\\sklearn\\linear_model\\logistic.py:432: FutureWarning: Default solver will be changed to 'lbfgs' in 0.22. Specify a solver to silence this warning.\n",
      "  FutureWarning)\n",
      "C:\\ProgramData\\Anaconda3\\lib\\site-packages\\sklearn\\utils\\validation.py:724: DataConversionWarning: A column-vector y was passed when a 1d array was expected. Please change the shape of y to (n_samples, ), for example using ravel().\n",
      "  y = column_or_1d(y, warn=True)\n",
      "C:\\ProgramData\\Anaconda3\\lib\\site-packages\\ipykernel_launcher.py:50: DataConversionWarning: A column-vector y was passed when a 1d array was expected. Please change the shape of y to (n_samples,), for example using ravel().\n",
      "C:\\ProgramData\\Anaconda3\\lib\\site-packages\\sklearn\\utils\\validation.py:724: DataConversionWarning: A column-vector y was passed when a 1d array was expected. Please change the shape of y to (n_samples, ), for example using ravel().\n",
      "  y = column_or_1d(y, warn=True)\n",
      "C:\\ProgramData\\Anaconda3\\lib\\site-packages\\sklearn\\ensemble\\gradient_boosting.py:1450: DataConversionWarning: A column-vector y was passed when a 1d array was expected. Please change the shape of y to (n_samples, ), for example using ravel().\n",
      "  y = column_or_1d(y, warn=True)\n"
     ]
    },
    {
     "name": "stdout",
     "output_type": "stream",
     "text": [
      "Confusion_Matrix \n",
      " [[4 4]\n",
      " [0 2]]\n",
      "Classification_Report \n",
      " \n",
      "               precision    recall  f1-score   support\n",
      "\n",
      "           0       1.00      0.50      0.67         8\n",
      "           1       0.33      1.00      0.50         2\n",
      "\n",
      "    accuracy                           0.60        10\n",
      "   macro avg       0.67      0.75      0.58        10\n",
      "weighted avg       0.87      0.60      0.63        10\n",
      "\n",
      "XGB Accuracy 0.6\n",
      "{'Logistics Regression': 0.7, 'DTC': 0.7, 'RFC': 0.6, 'AdaBoost': 0.8, 'GBoost': 0.4, 'XGBoost': 0.6, 'KNN': 0.5}\n"
     ]
    },
    {
     "name": "stderr",
     "output_type": "stream",
     "text": [
      "C:\\ProgramData\\Anaconda3\\lib\\site-packages\\ipykernel_launcher.py:100: DataConversionWarning: A column-vector y was passed when a 1d array was expected. Please change the shape of y to (n_samples, ), for example using ravel().\n"
     ]
    },
    {
     "data": {
      "text/plain": [
       "\"\\nConfusion_Matrix \\n [[7 1]\\n [0 2]]\\nClassification_Report \\n \\n               precision    recall  f1-score   support\\n\\n           0       1.00      0.88      0.93         8\\n           1       0.67      1.00      0.80         2\\n\\n    accuracy                           0.90        10\\n   macro avg       0.83      0.94      0.87        10\\nweighted avg       0.93      0.90      0.91        10\\n\\nXGB Accuracy 0.9\\n{'Logistics Regression': 0.8, 'DTC': 0.9, 'RFC': 0.9, 'AdaBoost': 0.7, 'GBoost': 0.9, 'XGBoost': 0.9, 'KNN': 0.7}\\n\""
      ]
     },
     "execution_count": 185,
     "metadata": {},
     "output_type": "execute_result"
    }
   ],
   "source": [
    "loc_accuracy=loc_specific_model(df_RCI[df_RCI['Location']=='MCA'],'MCA',balance=True)\n",
    "print(loc_accuracy)\n",
    "\n",
    "'''\n",
    "Confusion_Matrix \n",
    " [[7 1]\n",
    " [0 2]]\n",
    "Classification_Report \n",
    " \n",
    "               precision    recall  f1-score   support\n",
    "\n",
    "           0       1.00      0.88      0.93         8\n",
    "           1       0.67      1.00      0.80         2\n",
    "\n",
    "    accuracy                           0.90        10\n",
    "   macro avg       0.83      0.94      0.87        10\n",
    "weighted avg       0.93      0.90      0.91        10\n",
    "\n",
    "XGB Accuracy 0.9\n",
    "{'Logistics Regression': 0.8, 'DTC': 0.9, 'RFC': 0.9, 'AdaBoost': 0.7, 'GBoost': 0.9, 'XGBoost': 0.9, 'KNN': 0.7}\n",
    "'''"
   ]
  },
  {
   "cell_type": "markdown",
   "metadata": {},
   "source": [
    "### Feature Importance - MCA"
   ]
  },
  {
   "cell_type": "code",
   "execution_count": 186,
   "metadata": {},
   "outputs": [],
   "source": [
    "from xgboost import plot_importance\n",
    "from matplotlib import pyplot"
   ]
  },
  {
   "cell_type": "code",
   "execution_count": 188,
   "metadata": {},
   "outputs": [
    {
     "name": "stderr",
     "output_type": "stream",
     "text": [
      "C:\\ProgramData\\Anaconda3\\lib\\site-packages\\pandas\\core\\frame.py:4223: SettingWithCopyWarning: \n",
      "A value is trying to be set on a copy of a slice from a DataFrame\n",
      "\n",
      "See the caveats in the documentation: http://pandas.pydata.org/pandas-docs/stable/user_guide/indexing.html#returning-a-view-versus-a-copy\n",
      "  return super().rename(**kwargs)\n"
     ]
    },
    {
     "name": "stdout",
     "output_type": "stream",
     "text": [
      "XGB Accuracy 0.9\n"
     ]
    },
    {
     "data": {
      "image/png": "[encoded data removed]",
      "text/plain": [
       "<Figure size 432x288 with 1 Axes>"
      ]
     },
     "metadata": {
      "needs_background": "light"
     },
     "output_type": "display_data"
    }
   ],
   "source": [
    "df_RCI_loc=df_RCI[df_RCI['Location']=='MCA']\n",
    "no_Ruptured_loc = len(df_RCI_loc[df_RCI_loc['Status'] == 'Ruptured'])\n",
    "unruptured_indices_loc = df_RCI_loc[df_RCI_loc['Status'] == 'Un-Ruptured'].index\n",
    "random_indices_loc = np.random.choice(unruptured_indices_loc,no_Ruptured_loc,replace=True)\n",
    "ruptured_indices_loc = df_RCI_loc[df_RCI_loc['Status'] == 'Ruptured'].index\n",
    "under_sample_indices_loc = np.concatenate([ruptured_indices_loc,random_indices_loc])\n",
    "df_RCI_balanced_loc = df_RCI.loc[under_sample_indices_loc]                \n",
    "df_RCI_balanced_loc_X=df_RCI_balanced_loc[RCI_features]\n",
    "df_RCI_balanced_loc_Y=df_RCI_balanced_loc[RCI_label]\n",
    "\n",
    "# Rename Columns\n",
    "df_RCI_balanced_loc_X.rename(index=str, columns={\"Size Category (NB)\": \"Size\",\n",
    "                                'Age Category (Standard)':\"Age\"  \n",
    "                                      \n",
    "                                      },inplace=True)\n",
    "#Create Encoding\n",
    "df_RCI_loc_X_balanced_encoded= df_RCI_balanced_loc_X.copy()       \n",
    "encode = {}\n",
    "for column in df_RCI_loc_X_balanced_encoded.columns:\n",
    "    if df_RCI_loc_X_balanced_encoded.dtypes[column] == np.object:\n",
    "        encode[column] = LabelEncoder()\n",
    "        df_RCI_loc_X_balanced_encoded[column] = encode[column].fit_transform(df_RCI_loc_X_balanced_encoded[column])\n",
    "    \n",
    "    # Test Train Split \n",
    "loc_X_train_b, loc_X_val_b, loc_y_train_b, loc_y_val_b = train_test_split(df_RCI_loc_X_balanced_encoded, \n",
    "                                                    df_RCI_balanced_loc_Y, test_size=0.10, \n",
    "                                                    random_state=1)\n",
    "    \n",
    "    # Xtreme Gradient Boost\n",
    "    \n",
    "XG_loc_y_train_b=loc_y_train_b['Status'].map({'Un-Ruptured' :0 ,'Ruptured':1})\n",
    "XG_loc_y_val_b=loc_y_val_b['Status'].map({'Un-Ruptured' :0 ,'Ruptured':1})\n",
    "\n",
    "useTrainCV=True\n",
    "cv_folds=7\n",
    "early_stopping_rounds=50\n",
    "\n",
    "alg_MCA = XGBClassifier(learning_rate =0.1,n_estimators=1000,max_depth=5,min_child_weight=1,gamma=0,subsample=0.8,\n",
    "                        colsample_bytree=0.8,objective= 'binary:logistic',nthread=4,scale_pos_weight=1,seed=27,random_state=1)\n",
    "\n",
    "xgb_param = alg_MCA.get_xgb_params()\n",
    "xgtrain = xgb.DMatrix(loc_X_train_b, label=XG_loc_y_train_b.values)\n",
    "cvresult = xgb.cv(xgb_param, xgtrain, num_boost_round=alg.get_params()['n_estimators'], nfold=cv_folds,metrics='auc', early_stopping_rounds=early_stopping_rounds)\n",
    "alg_MCA.set_params(n_estimators=cvresult.shape[0])\n",
    "\n",
    "    #Fit the algorithm on the data\n",
    "alg_MCA.fit(loc_X_train_b, XG_loc_y_train_b,eval_metric='auc')\n",
    "\n",
    "    # Predict Test Set \n",
    "dtest_predictions = alg_MCA.predict(loc_X_val_b)\n",
    "\n",
    "print('XGB Accuracy',accuracy_score(XG_loc_y_val_b, dtest_predictions))\n",
    "\n",
    "plot_importance(alg_MCA,grid=False,title='MCA-Feature Importance')\n",
    "pyplot.show()"
   ]
  },
  {
   "cell_type": "markdown",
   "metadata": {},
   "source": [
    "### Location Specific Model - ACoA - XGB"
   ]
  },
  {
   "cell_type": "code",
   "execution_count": 80,
   "metadata": {},
   "outputs": [
    {
     "name": "stderr",
     "output_type": "stream",
     "text": [
      "C:\\ProgramData\\Anaconda3\\lib\\site-packages\\sklearn\\linear_model\\logistic.py:432: FutureWarning: Default solver will be changed to 'lbfgs' in 0.22. Specify a solver to silence this warning.\n",
      "  FutureWarning)\n",
      "C:\\ProgramData\\Anaconda3\\lib\\site-packages\\sklearn\\utils\\validation.py:724: DataConversionWarning: A column-vector y was passed when a 1d array was expected. Please change the shape of y to (n_samples, ), for example using ravel().\n",
      "  y = column_or_1d(y, warn=True)\n",
      "C:\\ProgramData\\Anaconda3\\lib\\site-packages\\ipykernel_launcher.py:50: DataConversionWarning: A column-vector y was passed when a 1d array was expected. Please change the shape of y to (n_samples,), for example using ravel().\n",
      "C:\\ProgramData\\Anaconda3\\lib\\site-packages\\sklearn\\utils\\validation.py:724: DataConversionWarning: A column-vector y was passed when a 1d array was expected. Please change the shape of y to (n_samples, ), for example using ravel().\n",
      "  y = column_or_1d(y, warn=True)\n",
      "C:\\ProgramData\\Anaconda3\\lib\\site-packages\\sklearn\\ensemble\\gradient_boosting.py:1450: DataConversionWarning: A column-vector y was passed when a 1d array was expected. Please change the shape of y to (n_samples, ), for example using ravel().\n",
      "  y = column_or_1d(y, warn=True)\n"
     ]
    },
    {
     "name": "stdout",
     "output_type": "stream",
     "text": [
      "Confusion_Matrix \n",
      " [[14  1]\n",
      " [ 4  8]]\n",
      "Classification_Report \n",
      " \n",
      "               precision    recall  f1-score   support\n",
      "\n",
      "           0       0.78      0.93      0.85        15\n",
      "           1       0.89      0.67      0.76        12\n",
      "\n",
      "    accuracy                           0.81        27\n",
      "   macro avg       0.83      0.80      0.81        27\n",
      "weighted avg       0.83      0.81      0.81        27\n",
      "\n",
      "XGB Accuracy 0.8148148148148148\n",
      "{'Logistics Regression': 0.6666666666666666, 'DTC': 0.7777777777777778, 'RFC': 0.8888888888888888, 'AdaBoost': 0.6666666666666666, 'GBoost': 0.5925925925925926, 'XGBoost': 0.8148148148148148, 'KNN': 0.8148148148148148}\n"
     ]
    },
    {
     "name": "stderr",
     "output_type": "stream",
     "text": [
      "C:\\ProgramData\\Anaconda3\\lib\\site-packages\\ipykernel_launcher.py:100: DataConversionWarning: A column-vector y was passed when a 1d array was expected. Please change the shape of y to (n_samples, ), for example using ravel().\n"
     ]
    },
    {
     "data": {
      "text/plain": [
       "\"\\n{'Logistics Regression': 0.6666666666666666, 'DTC': 0.7777777777777778, 'RFC': 0.8888888888888888, 'AdaBoost': 0.6666666666666666, 'GBoost': 0.5925925925925926, 'XGBoost': 0.8148148148148148, 'KNN': 0.8148148148148148}\\n\""
      ]
     },
     "execution_count": 80,
     "metadata": {},
     "output_type": "execute_result"
    }
   ],
   "source": [
    "loc_accuracy=loc_specific_model(df_RCI[df_RCI_X['Location']=='Anterior Communicating Artery'],'ACoA',balance=True)\n",
    "print(loc_accuracy)\n",
    "\n",
    "'''\n",
    "Confusion_Matrix \n",
    " [[14  1]\n",
    " [ 4  8]]\n",
    "Classification_Report \n",
    " \n",
    "               precision    recall  f1-score   support\n",
    "\n",
    "           0       0.78      0.93      0.85        15\n",
    "           1       0.89      0.67      0.76        12\n",
    "\n",
    "    accuracy                           0.81        27\n",
    "   macro avg       0.83      0.80      0.81        27\n",
    "weighted avg       0.83      0.81      0.81        27\n",
    "\n",
    "XGB Accuracy 0.8148148148148148\n",
    "{'Logistics Regression': 0.6666666666666666, 'DTC': 0.7777777777777778,\n",
    "'RFC': 0.8888888888888888, 'AdaBoost': 0.6666666666666666, 'GBoost':\n",
    "0.5925925925925926, 'XGBoost': 0.8148148148148148, 'KNN': 0.8148148148148148}\n",
    "'''"
   ]
  },
  {
   "cell_type": "markdown",
   "metadata": {},
   "source": [
    "### Feature Importance -ACoA"
   ]
  },
  {
   "cell_type": "code",
   "execution_count": 189,
   "metadata": {},
   "outputs": [
    {
     "name": "stdout",
     "output_type": "stream",
     "text": [
      "XGB Accuracy 0.7037037037037037\n"
     ]
    },
    {
     "data": {
      "image/png": "[encoded data removed]",
      "text/plain": [
       "<Figure size 432x288 with 1 Axes>"
      ]
     },
     "metadata": {
      "needs_background": "light"
     },
     "output_type": "display_data"
    }
   ],
   "source": [
    "df_RCI_loc=df_RCI[df_RCI['Location']=='Anterior Communicating Artery']\n",
    "no_Ruptured_loc = len(df_RCI_loc[df_RCI_loc['Status'] == 'Ruptured'])\n",
    "unruptured_indices_loc = df_RCI_loc[df_RCI_loc['Status'] == 'Un-Ruptured'].index\n",
    "random_indices_loc = np.random.choice(unruptured_indices_loc,no_Ruptured_loc,replace=True)\n",
    "ruptured_indices_loc = df_RCI_loc[df_RCI_loc['Status'] == 'Ruptured'].index\n",
    "under_sample_indices_loc = np.concatenate([ruptured_indices_loc,random_indices_loc])\n",
    "df_RCI_balanced_loc = df_RCI.loc[under_sample_indices_loc]                \n",
    "df_RCI_balanced_loc_X=df_RCI_balanced_loc[RCI_features]\n",
    "df_RCI_balanced_loc_Y=df_RCI_balanced_loc[RCI_label]\n",
    "   \n",
    "# Rename Columns\n",
    "df_RCI_balanced_loc_X.rename(index=str, columns={\"Size Category (NB)\": \"Size\",\n",
    "                                'Age Category (Standard)':\"Age\"  \n",
    "                                      \n",
    "                                      },inplace=True)\n",
    "# Create Encoding\n",
    "df_RCI_loc_X_balanced_encoded= df_RCI_balanced_loc_X.copy()       \n",
    "encode = {}\n",
    "for column in df_RCI_loc_X_balanced_encoded.columns:\n",
    "    if df_RCI_loc_X_balanced_encoded.dtypes[column] == np.object:\n",
    "        encode[column] = LabelEncoder()\n",
    "        df_RCI_loc_X_balanced_encoded[column] = encode[column].fit_transform(df_RCI_loc_X_balanced_encoded[column])\n",
    "    \n",
    "    # Test Train Split \n",
    "loc_X_train_b, loc_X_val_b, loc_y_train_b, loc_y_val_b = train_test_split(df_RCI_loc_X_balanced_encoded, \n",
    "                                                    df_RCI_balanced_loc_Y, test_size=0.10, \n",
    "                                                    random_state=1)\n",
    "    \n",
    "    # Xtreme Gradient Boost\n",
    "    \n",
    "XG_loc_y_train_b=loc_y_train_b['Status'].map({'Un-Ruptured' :0 ,'Ruptured':1})\n",
    "XG_loc_y_val_b=loc_y_val_b['Status'].map({'Un-Ruptured' :0 ,'Ruptured':1})\n",
    "\n",
    "useTrainCV=True\n",
    "cv_folds=7\n",
    "early_stopping_rounds=50\n",
    "\n",
    "alg_ACoA = XGBClassifier(learning_rate =0.1,n_estimators=1000,max_depth=5,min_child_weight=1,gamma=0,subsample=0.8,\n",
    "                       colsample_bytree=0.8,objective= 'binary:logistic',nthread=4,scale_pos_weight=1,seed=27,random_state=1)\n",
    "\n",
    "\n",
    "xgb_param = alg_ACoA.get_xgb_params()\n",
    "xgtrain = xgb.DMatrix(loc_X_train_b, label=XG_loc_y_train_b.values)\n",
    "cvresult = xgb.cv(xgb_param, xgtrain, num_boost_round=alg.get_params()['n_estimators'], nfold=cv_folds,metrics='auc', early_stopping_rounds=early_stopping_rounds)\n",
    "alg_ACoA.set_params(n_estimators=cvresult.shape[0])\n",
    "\n",
    "#Fit the algorithm on the data\n",
    "alg_ACoA.fit(loc_X_train_b, XG_loc_y_train_b,eval_metric='auc')\n",
    "\n",
    "    # Predict Test Set \n",
    "dtest_predictions = alg_ACoA.predict(loc_X_val_b)\n",
    "\n",
    "\n",
    "print('XGB Accuracy',accuracy_score(XG_loc_y_val_b, dtest_predictions))\n",
    "# Save the Model\n",
    "pickle.dump(alg_ACoA, open('alg_ACoA', 'wb'))\n",
    "plot_importance(alg_ACoA,grid=False,title='ACoA- Feature Importance')\n",
    "pyplot.show()"
   ]
  },
  {
   "cell_type": "markdown",
   "metadata": {},
   "source": [
    "### Location Specific Model - SICA -XGB"
   ]
  },
  {
   "cell_type": "code",
   "execution_count": 114,
   "metadata": {},
   "outputs": [
    {
     "name": "stderr",
     "output_type": "stream",
     "text": [
      "C:\\ProgramData\\Anaconda3\\lib\\site-packages\\sklearn\\linear_model\\logistic.py:432: FutureWarning: Default solver will be changed to 'lbfgs' in 0.22. Specify a solver to silence this warning.\n",
      "  FutureWarning)\n",
      "C:\\ProgramData\\Anaconda3\\lib\\site-packages\\sklearn\\utils\\validation.py:724: DataConversionWarning: A column-vector y was passed when a 1d array was expected. Please change the shape of y to (n_samples, ), for example using ravel().\n",
      "  y = column_or_1d(y, warn=True)\n",
      "C:\\ProgramData\\Anaconda3\\lib\\site-packages\\ipykernel_launcher.py:50: DataConversionWarning: A column-vector y was passed when a 1d array was expected. Please change the shape of y to (n_samples,), for example using ravel().\n",
      "C:\\ProgramData\\Anaconda3\\lib\\site-packages\\sklearn\\utils\\validation.py:724: DataConversionWarning: A column-vector y was passed when a 1d array was expected. Please change the shape of y to (n_samples, ), for example using ravel().\n",
      "  y = column_or_1d(y, warn=True)\n",
      "C:\\ProgramData\\Anaconda3\\lib\\site-packages\\sklearn\\ensemble\\gradient_boosting.py:1450: DataConversionWarning: A column-vector y was passed when a 1d array was expected. Please change the shape of y to (n_samples, ), for example using ravel().\n",
      "  y = column_or_1d(y, warn=True)\n"
     ]
    },
    {
     "name": "stdout",
     "output_type": "stream",
     "text": [
      "Confusion_Matrix \n",
      " [[14  1]\n",
      " [ 5  4]]\n",
      "Classification_Report \n",
      " \n",
      "               precision    recall  f1-score   support\n",
      "\n",
      "           0       0.74      0.93      0.82        15\n",
      "           1       0.80      0.44      0.57         9\n",
      "\n",
      "    accuracy                           0.75        24\n",
      "   macro avg       0.77      0.69      0.70        24\n",
      "weighted avg       0.76      0.75      0.73        24\n",
      "\n",
      "XGB Accuracy 0.75\n"
     ]
    },
    {
     "name": "stderr",
     "output_type": "stream",
     "text": [
      "C:\\ProgramData\\Anaconda3\\lib\\site-packages\\ipykernel_launcher.py:100: DataConversionWarning: A column-vector y was passed when a 1d array was expected. Please change the shape of y to (n_samples, ), for example using ravel().\n"
     ]
    },
    {
     "data": {
      "text/plain": [
       "\"\\n{'Logistics Regression': 0.5454545454545454,\\n 'DTC': 0.5909090909090909,\\n 'RFC': 0.7272727272727273,\\n 'AdaBoost': 0.5909090909090909,\\n 'GBoost': 0.5,\\n 'XGBoost': 0.7272727272727273,\\n 'KNN': 0.45454545454545453}\\n\\n\""
      ]
     },
     "execution_count": 114,
     "metadata": {},
     "output_type": "execute_result"
    }
   ],
   "source": [
    "loc_specific_model(df_RCI[df_RCI_X['Location']=='Superaclanoid Internal Carotid Artery'],'SICA',balance=False)\n",
    "'''\n",
    "Confusion_Matrix \n",
    " [[14  1]\n",
    " [ 5  4]]\n",
    "Classification_Report \n",
    " \n",
    "               precision    recall  f1-score   support\n",
    "\n",
    "           0       0.74      0.93      0.82        15\n",
    "           1       0.80      0.44      0.57         9\n",
    "\n",
    "    accuracy                           0.75        24\n",
    "   macro avg       0.77      0.69      0.70        24\n",
    "weighted avg       0.76      0.75      0.73        24\n",
    "\n",
    "XGB Accuracy 0.75\n",
    "\n",
    "'''"
   ]
  },
  {
   "cell_type": "code",
   "execution_count": 190,
   "metadata": {},
   "outputs": [
    {
     "name": "stdout",
     "output_type": "stream",
     "text": [
      "XGB SICA Accuracy 0.5\n"
     ]
    },
    {
     "data": {
      "image/png": "[encoded data removed]",
      "text/plain": [
       "<Figure size 432x288 with 1 Axes>"
      ]
     },
     "metadata": {
      "needs_background": "light"
     },
     "output_type": "display_data"
    }
   ],
   "source": [
    "df_RCI_loc=df_RCI[df_RCI['Location']=='Superaclanoid Internal Carotid Artery']\n",
    "no_Ruptured_loc = len(df_RCI_loc[df_RCI_loc['Status'] == 'Ruptured'])\n",
    "unruptured_indices_loc = df_RCI_loc[df_RCI_loc['Status'] == 'Un-Ruptured'].index\n",
    "random_indices_loc = np.random.choice(unruptured_indices_loc,no_Ruptured_loc,replace=True)\n",
    "ruptured_indices_loc = df_RCI_loc[df_RCI_loc['Status'] == 'Ruptured'].index\n",
    "under_sample_indices_loc = np.concatenate([ruptured_indices_loc,random_indices_loc])\n",
    "df_RCI_balanced_loc = df_RCI.loc[under_sample_indices_loc]                \n",
    "df_RCI_balanced_loc_X=df_RCI_balanced_loc[RCI_features]\n",
    "df_RCI_balanced_loc_Y=df_RCI_balanced_loc[RCI_label]\n",
    "  \n",
    "# Rename Columns\n",
    "df_RCI_balanced_loc_X.rename(index=str, columns={\"Size Category (NB)\": \"Size\",\n",
    "                                'Age Category (Standard)':\"Age\"  \n",
    "                                      \n",
    "                                      },inplace=True)\n",
    "# Create Encoding\n",
    "df_RCI_loc_X_balanced_encoded= df_RCI_balanced_loc_X.copy()       \n",
    "encode = {}\n",
    "for column in df_RCI_loc_X_balanced_encoded.columns:\n",
    "    if df_RCI_loc_X_balanced_encoded.dtypes[column] == np.object:\n",
    "        encode[column] = LabelEncoder()\n",
    "        df_RCI_loc_X_balanced_encoded[column] = encode[column].fit_transform(df_RCI_loc_X_balanced_encoded[column])\n",
    "    \n",
    "    # Test Train Split \n",
    "loc_X_train_b, loc_X_val_b, loc_y_train_b, loc_y_val_b = train_test_split(df_RCI_loc_X_balanced_encoded, \n",
    "                                                    df_RCI_balanced_loc_Y, test_size=0.10, \n",
    "                                                    random_state=1)\n",
    "    \n",
    "    # Xtreme Gradient Boost\n",
    "    \n",
    "XG_loc_y_train_b=loc_y_train_b['Status'].map({'Un-Ruptured' :0 ,'Ruptured':1})\n",
    "XG_loc_y_val_b=loc_y_val_b['Status'].map({'Un-Ruptured' :0 ,'Ruptured':1})\n",
    "\n",
    "useTrainCV=True\n",
    "cv_folds=7\n",
    "early_stopping_rounds=50\n",
    "\n",
    "alg_SICA = XGBClassifier(learning_rate =0.1,n_estimators=1000,max_depth=5,min_child_weight=1,gamma=0,subsample=0.8,\n",
    "                        colsample_bytree=0.8,objective= 'binary:logistic',nthread=4,scale_pos_weight=1,seed=27,random_state=1)\n",
    "\n",
    "xgb_param = alg_SICA.get_xgb_params()\n",
    "xgtrain = xgb.DMatrix(loc_X_train_b, label=XG_loc_y_train_b.values)\n",
    "cvresult = xgb.cv(xgb_param, xgtrain, num_boost_round=alg.get_params()['n_estimators'], nfold=cv_folds,metrics='auc', early_stopping_rounds=early_stopping_rounds)\n",
    "alg_SICA.set_params(n_estimators=cvresult.shape[0])\n",
    "\n",
    "    #Fit the algorithm on the data\n",
    "alg_SICA.fit(loc_X_train_b, XG_loc_y_train_b,eval_metric='auc')\n",
    "\n",
    "    # Predict Test Set \n",
    "dtest_predictions = alg_SICA.predict(loc_X_val_b)\n",
    "print('XGB SICA Accuracy',accuracy_score(XG_loc_y_val_b, dtest_predictions))\n",
    "\n",
    "plot_importance(alg_SICA,grid=False)\n",
    "pyplot.show()"
   ]
  },
  {
   "cell_type": "code",
   "execution_count": 126,
   "metadata": {},
   "outputs": [
    {
     "data": {
      "text/plain": [
       "Un-Ruptured    126\n",
       "Ruptured       106\n",
       "Name: Status, dtype: int64"
      ]
     },
     "execution_count": 126,
     "metadata": {},
     "output_type": "execute_result"
    }
   ],
   "source": [
    "df_RCI[df_RCI_X['Location']=='Superaclanoid Internal Carotid Artery']['Status'].value_counts() \n"
   ]
  },
  {
   "cell_type": "code",
   "execution_count": 198,
   "metadata": {},
   "outputs": [
    {
     "data": {
      "text/plain": [
       "Un-Ruptured    114\n",
       "Ruptured        46\n",
       "Name: Status, dtype: int64"
      ]
     },
     "execution_count": 198,
     "metadata": {},
     "output_type": "execute_result"
    }
   ],
   "source": [
    "df_RCI[df_RCI_X['Location']=='MCA']['Status'].value_counts()"
   ]
  },
  {
   "cell_type": "markdown",
   "metadata": {},
   "source": [
    "### Location Specific Model - Paraclinoid -XGB "
   ]
  },
  {
   "cell_type": "code",
   "execution_count": 86,
   "metadata": {},
   "outputs": [
    {
     "name": "stderr",
     "output_type": "stream",
     "text": [
      "C:\\ProgramData\\Anaconda3\\lib\\site-packages\\sklearn\\linear_model\\logistic.py:432: FutureWarning: Default solver will be changed to 'lbfgs' in 0.22. Specify a solver to silence this warning.\n",
      "  FutureWarning)\n",
      "C:\\ProgramData\\Anaconda3\\lib\\site-packages\\sklearn\\utils\\validation.py:724: DataConversionWarning: A column-vector y was passed when a 1d array was expected. Please change the shape of y to (n_samples, ), for example using ravel().\n",
      "  y = column_or_1d(y, warn=True)\n",
      "C:\\ProgramData\\Anaconda3\\lib\\site-packages\\ipykernel_launcher.py:50: DataConversionWarning: A column-vector y was passed when a 1d array was expected. Please change the shape of y to (n_samples,), for example using ravel().\n",
      "C:\\ProgramData\\Anaconda3\\lib\\site-packages\\sklearn\\utils\\validation.py:724: DataConversionWarning: A column-vector y was passed when a 1d array was expected. Please change the shape of y to (n_samples, ), for example using ravel().\n",
      "  y = column_or_1d(y, warn=True)\n",
      "C:\\ProgramData\\Anaconda3\\lib\\site-packages\\sklearn\\ensemble\\gradient_boosting.py:1450: DataConversionWarning: A column-vector y was passed when a 1d array was expected. Please change the shape of y to (n_samples, ), for example using ravel().\n",
      "  y = column_or_1d(y, warn=True)\n"
     ]
    },
    {
     "name": "stdout",
     "output_type": "stream",
     "text": [
      "Confusion_Matrix \n",
      " [[2 1]\n",
      " [0 1]]\n",
      "Classification_Report \n",
      " \n",
      "               precision    recall  f1-score   support\n",
      "\n",
      "           0       1.00      0.67      0.80         3\n",
      "           1       0.50      1.00      0.67         1\n",
      "\n",
      "    accuracy                           0.75         4\n",
      "   macro avg       0.75      0.83      0.73         4\n",
      "weighted avg       0.88      0.75      0.77         4\n",
      "\n",
      "XGB Accuracy 0.75\n"
     ]
    },
    {
     "name": "stderr",
     "output_type": "stream",
     "text": [
      "C:\\ProgramData\\Anaconda3\\lib\\site-packages\\ipykernel_launcher.py:100: DataConversionWarning: A column-vector y was passed when a 1d array was expected. Please change the shape of y to (n_samples, ), for example using ravel().\n"
     ]
    },
    {
     "data": {
      "text/plain": [
       "\"\\n{'Logistics Regression': 0.75,\\n 'DTC': 0.5,\\n 'RFC': 0.75,\\n 'AdaBoost': 0.75,\\n 'GBoost': 0.75,\\n 'XGBoost': 0.75,\\n 'KNN': 0.75}\\n\""
      ]
     },
     "execution_count": 86,
     "metadata": {},
     "output_type": "execute_result"
    }
   ],
   "source": [
    "loc_specific_model(df_RCI[df_RCI_X['Location']=='Paraclinoid'],'Paraclinoid',balance=True)\n",
    "'''\n",
    "Confusion_Matrix \n",
    " [[2 1]\n",
    " [0 1]]\n",
    "Classification_Report \n",
    " \n",
    "               precision    recall  f1-score   support\n",
    "\n",
    "           0       1.00      0.67      0.80         3\n",
    "           1       0.50      1.00      0.67         1\n",
    "\n",
    "    accuracy                           0.75         4\n",
    "   macro avg       0.75      0.83      0.73         4\n",
    "weighted avg       0.88      0.75      0.77         4\n",
    "\n",
    "XGB Accuracy 0.75\n",
    "'''"
   ]
  },
  {
   "cell_type": "markdown",
   "metadata": {},
   "source": [
    "### Feature Importance -Paraclinoid"
   ]
  },
  {
   "cell_type": "code",
   "execution_count": 191,
   "metadata": {},
   "outputs": [
    {
     "data": {
      "image/png": "[encoded data removed]",
      "text/plain": [
       "<Figure size 432x288 with 1 Axes>"
      ]
     },
     "metadata": {
      "needs_background": "light"
     },
     "output_type": "display_data"
    }
   ],
   "source": [
    "df_RCI_loc=df_RCI[df_RCI['Location']=='Paraclinoid']\n",
    "no_Ruptured_loc = len(df_RCI_loc[df_RCI_loc['Status'] == 'Ruptured'])\n",
    "unruptured_indices_loc = df_RCI_loc[df_RCI_loc['Status'] == 'Un-Ruptured'].index\n",
    "random_indices_loc = np.random.choice(unruptured_indices_loc,no_Ruptured_loc,replace=True)\n",
    "ruptured_indices_loc = df_RCI_loc[df_RCI_loc['Status'] == 'Ruptured'].index\n",
    "under_sample_indices_loc = np.concatenate([ruptured_indices_loc,random_indices_loc])\n",
    "df_RCI_balanced_loc = df_RCI.loc[under_sample_indices_loc]                \n",
    "df_RCI_balanced_loc_X=df_RCI_balanced_loc[RCI_features]\n",
    "df_RCI_balanced_loc_Y=df_RCI_balanced_loc[RCI_label]\n",
    "    \n",
    "# Rename Columns\n",
    "df_RCI_balanced_loc_X.rename(index=str, columns={\"Size Category (NB)\": \"Size\",\n",
    "                                'Age Category (Standard)':\"Age\"  \n",
    "                                      \n",
    "                                      },inplace=True)\n",
    "#Create Encoding\n",
    "df_RCI_loc_X_balanced_encoded= df_RCI_balanced_loc_X.copy()       \n",
    "encode = {}\n",
    "for column in df_RCI_loc_X_balanced_encoded.columns:\n",
    "    if df_RCI_loc_X_balanced_encoded.dtypes[column] == np.object:\n",
    "        encode[column] = LabelEncoder()\n",
    "        df_RCI_loc_X_balanced_encoded[column] = encode[column].fit_transform(df_RCI_loc_X_balanced_encoded[column])\n",
    "    \n",
    "    # Test Train Split \n",
    "loc_X_train_b, loc_X_val_b, loc_y_train_b, loc_y_val_b = train_test_split(df_RCI_loc_X_balanced_encoded, \n",
    "                                                    df_RCI_balanced_loc_Y, test_size=0.10, \n",
    "                                                    random_state=1)\n",
    "    \n",
    "    # Xtreme Gradient Boost\n",
    "    \n",
    "XG_loc_y_train_b=loc_y_train_b['Status'].map({'Un-Ruptured' :0 ,'Ruptured':1})\n",
    "XG_loc_y_val_b=loc_y_val_b['Status'].map({'Un-Ruptured' :0 ,'Ruptured':1})\n",
    "\n",
    "useTrainCV=True\n",
    "cv_folds=7\n",
    "early_stopping_rounds=50\n",
    "\n",
    "alg = XGBClassifier(learning_rate =0.1,n_estimators=1000,max_depth=5,min_child_weight=1,gamma=0,subsample=0.8,\n",
    "                        colsample_bytree=0.8,objective= 'binary:logistic',nthread=4,scale_pos_weight=1,seed=27,random_state=1)\n",
    "\n",
    "xgb_param = alg.get_xgb_params()\n",
    "xgtrain = xgb.DMatrix(loc_X_train_b, label=XG_loc_y_train_b.values)\n",
    "cvresult = xgb.cv(xgb_param, xgtrain, num_boost_round=alg.get_params()['n_estimators'], nfold=cv_folds,metrics='auc', early_stopping_rounds=early_stopping_rounds)\n",
    "alg.set_params(n_estimators=cvresult.shape[0])\n",
    "\n",
    "    #Fit the algorithm on the data\n",
    "alg.fit(loc_X_train_b, XG_loc_y_train_b,eval_metric='auc')\n",
    "\n",
    "    # Predict Test Set \n",
    "dtest_predictions = alg.predict(loc_X_val_b)\n",
    "\n",
    "\n",
    "plot_importance(alg,grid=False,title='Paraclinoid-Feature Importance')\n",
    "pyplot.show()"
   ]
  },
  {
   "cell_type": "markdown",
   "metadata": {},
   "source": [
    "### Combining All feature Importance into one"
   ]
  },
  {
   "cell_type": "code",
   "execution_count": 215,
   "metadata": {},
   "outputs": [
    {
     "data": {
      "image/png": "[encoded data removed]",
      "text/plain": [
       "<Figure size 720x576 with 3 Axes>"
      ]
     },
     "metadata": {
      "needs_background": "light"
     },
     "output_type": "display_data"
    }
   ],
   "source": [
    "fig, axes = plt.subplots(nrows=2, ncols=2,figsize=(10,8))\n",
    "plot_importance(alg_MCA,ax=axes[0,0],grid=False,title='MCA',show_values=False)\n",
    "plot_importance(alg_ACoA,ax=axes[0,1],grid=False,title='ACoA',show_values=False)\n",
    "plot_importance(alg_SICA,ax=axes[1, 0],grid=False,title='SICA',show_values=False)\n",
    "#plot_importance(alg,ax=axes[1, 1],grid=False,title='Paraclinoid',show_values=False)\n",
    "fig.delaxes(axes[1][1])\n",
    "plt.tight_layout()\n",
    "\n",
    "fig.savefig('Feature_impprtance.png')\n",
    "\n"
   ]
  }
 ],
 "metadata": {
  "kernelspec": {
   "display_name": "Python 3",
   "language": "python",
   "name": "python3"
  },
  "language_info": {
   "codemirror_mode": {
    "name": "ipython",
    "version": 3
   },
   "file_extension": ".py",
   "mimetype": "text/x-python",
   "name": "python",
   "nbconvert_exporter": "python",
   "pygments_lexer": "ipython3",
   "version": "3.7.4"
  }
 },
 "nbformat": 4,
 "nbformat_minor": 2
}
